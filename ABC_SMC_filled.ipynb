{
 "cells": [
  {
   "cell_type": "markdown",
   "metadata": {
    "id": "1ag7R4IDS67S"
   },
   "source": [
    "# Funkcje pomocnicze"
   ]
  },
  {
   "cell_type": "code",
   "execution_count": null,
   "metadata": {
    "id": "8Imo5TxiTF3K"
   },
   "outputs": [],
   "source": [
    "!pip install pyabc==0.10.10\n",
    "!git clone https://github.com/JuliaZur/TumorGrowthModel.git"
   ]
  },
  {
   "cell_type": "code",
   "execution_count": 2,
   "metadata": {
    "colab": {
     "base_uri": "https://localhost:8080/"
    },
    "id": "QjngGvaZS67b",
    "outputId": "d757bdc1-bfb0-449e-b748-6cef2c046440"
   },
   "outputs": [
    {
     "name": "stderr",
     "output_type": "stream",
     "text": [
      "/usr/local/lib/python3.6/dist-packages/rpy2/robjects/pandas2ri.py:14: FutureWarning: pandas.core.index is deprecated and will be removed in a future version.  The public classes are available in the top-level namespace.\n",
      "  from pandas.core.index import Index as PandasIndex\n",
      "/usr/local/lib/python3.6/dist-packages/rpy2/robjects/pandas2ri.py:34: UserWarning: pandas >= 1.0 is not supported.\n",
      "  warnings.warn('pandas >= 1.0 is not supported.')\n"
     ]
    }
   ],
   "source": [
    "import numpy as np\n",
    "import pandas as pd\n",
    "import pyabc\n",
    "import scipy.stats as st\n",
    "import seaborn as sns\n",
    "import matplotlib.pyplot as plt\n",
    "import os\n",
    "import tempfile\n",
    "from collections import Counter"
   ]
  },
  {
   "cell_type": "code",
   "execution_count": 125,
   "metadata": {
    "id": "dgnKfDklS67c"
   },
   "outputs": [],
   "source": [
    "def plot_history(history):\n",
    "    _, arr_ax = plt.subplots(2, 2)\n",
    "\n",
    "    pyabc.visualization.plot_sample_numbers(history, ax=arr_ax[0][0])\n",
    "    pyabc.visualization.plot_epsilons(history, ax=arr_ax[0][1])\n",
    "    pyabc.visualization.plot_credible_intervals(\n",
    "        history, levels=[0.95, 0.9, 0.5], ts=[0, 1, 2, 3, 4],\n",
    "        show_mean=True, show_kde_max_1d=True, arr_ax=arr_ax[1][0])\n",
    "    pyabc.visualization.plot_effective_sample_sizes(history, ax=arr_ax[1][1])\n",
    "\n",
    "    plt.gcf().set_size_inches((12, 8))\n",
    "    plt.gcf().tight_layout()\n",
    "\n",
    "def plot_comparison(mu, sigma):\n",
    "    simulation = gaussian_simulation({'mu': mu, 'sigma': sigma})['data']\n",
    "    fig, ax = plt.subplots(1, 1)\n",
    "    ax.hist(simulation, density=True, histtype='stepfilled', alpha=0.5, label='model')\n",
    "    ax.hist(data, density=True, histtype='stepfilled', alpha=0.5, label='data')\n",
    "    ax.legend(loc='best', frameon=False)\n",
    "    plt.show()\n",
    "\n",
    "def plot_double_comparison(mu_1, sigma_1, mu_2, sigma_2, f_h_samples):\n",
    "    simulation = double_gaussian_simulation({\n",
    "        'mu_1': mu_1,\n",
    "        'sigma_1': sigma_1,\n",
    "        'mu_2': mu_2,\n",
    "        'sigma_2': sigma_2,\n",
    "        'f_h_samples': f_h_samples\n",
    "    })['data']\n",
    "    sim_hist = get_hist(simulation)\n",
    "    data_hist = get_hist(double_data)\n",
    "    fig, ax = plt.subplots(1, 1)\n",
    "    ax.bar(possible_keys, sim_hist, label=\"model\", alpha=0.5)\n",
    "    ax.bar(possible_keys, data_hist, label=\"data\", alpha=0.5)\n",
    "    ax.legend(loc='best', frameon=False)\n",
    "    plt.show()\n",
    "    \n",
    "def plot_posterior(history, name):\n",
    "    if name == 'danceability':\n",
    "        mu_min, mu_max = 0, 1.5\n",
    "        sigma_min, sigma_max = 0, 1.5\n",
    "    elif name == 'loudness':\n",
    "        mu_min, mu_max = -10, -2.5\n",
    "        sigma_min, sigma_max = 1.5, 4.5\n",
    "    else:\n",
    "        mu_min, mu_max = -10, 10\n",
    "        sigma_min, sigma_max = 0, 10\n",
    "    fig = plt.figure(figsize=(15, 10))\n",
    "    ax_mu = fig.add_subplot(221)\n",
    "    for t in range(history.max_t+1):\n",
    "        df_h, w = history.get_distribution(m=0, t=t)\n",
    "        pyabc.visualization.plot_kde_1d(\n",
    "            df_h, w,\n",
    "            xmin=mu_min, xmax=mu_max,\n",
    "            x=\"mu\", ax=ax_mu,\n",
    "            label=\"t={}\".format(t))\n",
    "    ax_mu.legend();\n",
    "    ax_sigma = fig.add_subplot(222)\n",
    "    for t in range(history.max_t+1):\n",
    "        df_h, w = history.get_distribution(m=0, t=t)\n",
    "        pyabc.visualization.plot_kde_1d(\n",
    "            df_h, w,\n",
    "            xmin=sigma_min, xmax=sigma_max,\n",
    "            x=\"sigma\", ax=ax_sigma,\n",
    "            label=\"t={}\".format(t))\n",
    "    ax_sigma.legend();"
   ]
  },
  {
   "cell_type": "markdown",
   "metadata": {
    "id": "B3KHX0hRS67d"
   },
   "source": [
    "# Dane\n",
    "Informacje o piosenkach w serwisie Spotify:\n",
    "\n",
    "https://www.kaggle.com/mrmorj/dataset-of-songs-in-spotify?select=genres_v2.csv"
   ]
  },
  {
   "cell_type": "code",
   "execution_count": 9,
   "metadata": {
    "colab": {
     "base_uri": "https://localhost:8080/",
     "height": 385
    },
    "id": "TgsYBsGdS67d",
    "outputId": "4befefad-af67-4a40-a16f-a21c935b3d5e"
   },
   "outputs": [
    {
     "name": "stderr",
     "output_type": "stream",
     "text": [
      "/usr/local/lib/python3.6/dist-packages/IPython/core/interactiveshell.py:3072: DtypeWarning: Columns (19) have mixed types.Specify dtype option on import or set low_memory=False.\n",
      "  interactivity=interactivity, compiler=compiler, result=result)\n"
     ]
    },
    {
     "data": {
      "text/html": [
       "<div>\n",
       "<style scoped>\n",
       "    .dataframe tbody tr th:only-of-type {\n",
       "        vertical-align: middle;\n",
       "    }\n",
       "\n",
       "    .dataframe tbody tr th {\n",
       "        vertical-align: top;\n",
       "    }\n",
       "\n",
       "    .dataframe thead th {\n",
       "        text-align: right;\n",
       "    }\n",
       "</style>\n",
       "<table border=\"1\" class=\"dataframe\">\n",
       "  <thead>\n",
       "    <tr style=\"text-align: right;\">\n",
       "      <th></th>\n",
       "      <th>danceability</th>\n",
       "      <th>energy</th>\n",
       "      <th>key</th>\n",
       "      <th>loudness</th>\n",
       "      <th>mode</th>\n",
       "      <th>speechiness</th>\n",
       "      <th>acousticness</th>\n",
       "      <th>instrumentalness</th>\n",
       "      <th>liveness</th>\n",
       "      <th>valence</th>\n",
       "      <th>tempo</th>\n",
       "      <th>type</th>\n",
       "      <th>id</th>\n",
       "      <th>uri</th>\n",
       "      <th>track_href</th>\n",
       "      <th>analysis_url</th>\n",
       "      <th>duration_ms</th>\n",
       "      <th>time_signature</th>\n",
       "      <th>genre</th>\n",
       "      <th>song_name</th>\n",
       "      <th>Unnamed: 0</th>\n",
       "      <th>title</th>\n",
       "    </tr>\n",
       "  </thead>\n",
       "  <tbody>\n",
       "    <tr>\n",
       "      <th>0</th>\n",
       "      <td>0.831</td>\n",
       "      <td>0.814</td>\n",
       "      <td>2</td>\n",
       "      <td>-7.364</td>\n",
       "      <td>1</td>\n",
       "      <td>0.4200</td>\n",
       "      <td>0.0598</td>\n",
       "      <td>0.013400</td>\n",
       "      <td>0.0556</td>\n",
       "      <td>0.3890</td>\n",
       "      <td>156.985</td>\n",
       "      <td>audio_features</td>\n",
       "      <td>2Vc6NJ9PW9gD9q343XFRKx</td>\n",
       "      <td>spotify:track:2Vc6NJ9PW9gD9q343XFRKx</td>\n",
       "      <td>https://api.spotify.com/v1/tracks/2Vc6NJ9PW9gD...</td>\n",
       "      <td>https://api.spotify.com/v1/audio-analysis/2Vc6...</td>\n",
       "      <td>124539</td>\n",
       "      <td>4</td>\n",
       "      <td>Dark Trap</td>\n",
       "      <td>Mercury: Retrograde</td>\n",
       "      <td>NaN</td>\n",
       "      <td>NaN</td>\n",
       "    </tr>\n",
       "    <tr>\n",
       "      <th>1</th>\n",
       "      <td>0.719</td>\n",
       "      <td>0.493</td>\n",
       "      <td>8</td>\n",
       "      <td>-7.230</td>\n",
       "      <td>1</td>\n",
       "      <td>0.0794</td>\n",
       "      <td>0.4010</td>\n",
       "      <td>0.000000</td>\n",
       "      <td>0.1180</td>\n",
       "      <td>0.1240</td>\n",
       "      <td>115.080</td>\n",
       "      <td>audio_features</td>\n",
       "      <td>7pgJBLVz5VmnL7uGHmRj6p</td>\n",
       "      <td>spotify:track:7pgJBLVz5VmnL7uGHmRj6p</td>\n",
       "      <td>https://api.spotify.com/v1/tracks/7pgJBLVz5Vmn...</td>\n",
       "      <td>https://api.spotify.com/v1/audio-analysis/7pgJ...</td>\n",
       "      <td>224427</td>\n",
       "      <td>4</td>\n",
       "      <td>Dark Trap</td>\n",
       "      <td>Pathology</td>\n",
       "      <td>NaN</td>\n",
       "      <td>NaN</td>\n",
       "    </tr>\n",
       "    <tr>\n",
       "      <th>2</th>\n",
       "      <td>0.850</td>\n",
       "      <td>0.893</td>\n",
       "      <td>5</td>\n",
       "      <td>-4.783</td>\n",
       "      <td>1</td>\n",
       "      <td>0.0623</td>\n",
       "      <td>0.0138</td>\n",
       "      <td>0.000004</td>\n",
       "      <td>0.3720</td>\n",
       "      <td>0.0391</td>\n",
       "      <td>218.050</td>\n",
       "      <td>audio_features</td>\n",
       "      <td>0vSWgAlfpye0WCGeNmuNhy</td>\n",
       "      <td>spotify:track:0vSWgAlfpye0WCGeNmuNhy</td>\n",
       "      <td>https://api.spotify.com/v1/tracks/0vSWgAlfpye0...</td>\n",
       "      <td>https://api.spotify.com/v1/audio-analysis/0vSW...</td>\n",
       "      <td>98821</td>\n",
       "      <td>4</td>\n",
       "      <td>Dark Trap</td>\n",
       "      <td>Symbiote</td>\n",
       "      <td>NaN</td>\n",
       "      <td>NaN</td>\n",
       "    </tr>\n",
       "    <tr>\n",
       "      <th>3</th>\n",
       "      <td>0.476</td>\n",
       "      <td>0.781</td>\n",
       "      <td>0</td>\n",
       "      <td>-4.710</td>\n",
       "      <td>1</td>\n",
       "      <td>0.1030</td>\n",
       "      <td>0.0237</td>\n",
       "      <td>0.000000</td>\n",
       "      <td>0.1140</td>\n",
       "      <td>0.1750</td>\n",
       "      <td>186.948</td>\n",
       "      <td>audio_features</td>\n",
       "      <td>0VSXnJqQkwuH2ei1nOQ1nu</td>\n",
       "      <td>spotify:track:0VSXnJqQkwuH2ei1nOQ1nu</td>\n",
       "      <td>https://api.spotify.com/v1/tracks/0VSXnJqQkwuH...</td>\n",
       "      <td>https://api.spotify.com/v1/audio-analysis/0VSX...</td>\n",
       "      <td>123661</td>\n",
       "      <td>3</td>\n",
       "      <td>Dark Trap</td>\n",
       "      <td>ProductOfDrugs (Prod. The Virus and Antidote)</td>\n",
       "      <td>NaN</td>\n",
       "      <td>NaN</td>\n",
       "    </tr>\n",
       "    <tr>\n",
       "      <th>4</th>\n",
       "      <td>0.798</td>\n",
       "      <td>0.624</td>\n",
       "      <td>2</td>\n",
       "      <td>-7.668</td>\n",
       "      <td>1</td>\n",
       "      <td>0.2930</td>\n",
       "      <td>0.2170</td>\n",
       "      <td>0.000000</td>\n",
       "      <td>0.1660</td>\n",
       "      <td>0.5910</td>\n",
       "      <td>147.988</td>\n",
       "      <td>audio_features</td>\n",
       "      <td>4jCeguq9rMTlbMmPHuO7S3</td>\n",
       "      <td>spotify:track:4jCeguq9rMTlbMmPHuO7S3</td>\n",
       "      <td>https://api.spotify.com/v1/tracks/4jCeguq9rMTl...</td>\n",
       "      <td>https://api.spotify.com/v1/audio-analysis/4jCe...</td>\n",
       "      <td>123298</td>\n",
       "      <td>4</td>\n",
       "      <td>Dark Trap</td>\n",
       "      <td>Venom</td>\n",
       "      <td>NaN</td>\n",
       "      <td>NaN</td>\n",
       "    </tr>\n",
       "  </tbody>\n",
       "</table>\n",
       "</div>"
      ],
      "text/plain": [
       "   danceability  energy  ...  Unnamed: 0  title\n",
       "0         0.831   0.814  ...         NaN    NaN\n",
       "1         0.719   0.493  ...         NaN    NaN\n",
       "2         0.850   0.893  ...         NaN    NaN\n",
       "3         0.476   0.781  ...         NaN    NaN\n",
       "4         0.798   0.624  ...         NaN    NaN\n",
       "\n",
       "[5 rows x 22 columns]"
      ]
     },
     "execution_count": 9,
     "metadata": {
      "tags": []
     },
     "output_type": "execute_result"
    }
   ],
   "source": [
    "df = pd.read_csv('TumorGrowthModel/data/genres.csv')\n",
    "df.head()"
   ]
  },
  {
   "cell_type": "markdown",
   "metadata": {
    "id": "GcpYKXf1kOk6"
   },
   "source": [
    "# Algorytm ABC-SMC"
   ]
  },
  {
   "cell_type": "markdown",
   "metadata": {},
   "source": [
    "# --------------------------------------------------------\n",
    "# TU DZIOBAK WRZUCA SWOJĄ SUPER CZĘŚĆ\n",
    "# --------------------------------------------------------"
   ]
  },
  {
   "cell_type": "markdown",
   "metadata": {
    "id": "CQ63_QVnS67e"
   },
   "source": [
    "# ABS-SMC przy użyciu biblioteki pyABC"
   ]
  },
  {
   "cell_type": "markdown",
   "metadata": {
    "id": "lSC5K9AdS67e"
   },
   "source": [
    "## Dopasowanie modelu Gaussa do danych"
   ]
  },
  {
   "cell_type": "code",
   "execution_count": 69,
   "metadata": {
    "id": "7GZZW6_dS67f"
   },
   "outputs": [],
   "source": [
    "def get_stats(data):\n",
    "    return np.array([data.mean(), data.std()])\n",
    "\n",
    "def distance(simulation, data):\n",
    "    data_stats = get_stats(data[\"data\"])\n",
    "    simulation_stats = get_stats(simulation[\"data\"])\n",
    "    return np.mean(abs(simulation_stats - data_stats))"
   ]
  },
  {
   "cell_type": "code",
   "execution_count": 70,
   "metadata": {
    "id": "doAAM6HsS67f"
   },
   "outputs": [],
   "source": [
    "def gaussian_simulation(parameters):\n",
    "    return {\"data\": st.norm.rvs(loc=parameters['mu'], scale=parameters['sigma'], size=n_samples)}"
   ]
  },
  {
   "cell_type": "code",
   "execution_count": 93,
   "metadata": {
    "colab": {
     "base_uri": "https://localhost:8080/"
    },
    "id": "CeXM-3GTS67f",
    "outputId": "075919e9-f06c-40b1-da18-17f8ccf20607"
   },
   "outputs": [
    {
     "name": "stdout",
     "output_type": "stream",
     "text": [
      "\n",
      "    DATA:\n",
      "    \t mu: \t\t0.6393643210022456\n",
      "    \t sigma: \t0.1566152732579436\n",
      "    \n"
     ]
    }
   ],
   "source": [
    "data, data_name = np.array(df.danceability), 'danceability'\n",
    "# data, data_name = np.array(df.loudness), 'loudness\n",
    "n_samples = data.shape[0]\n",
    "\n",
    "data_mu = data.mean()\n",
    "data_sigma = data.std()\n",
    "\n",
    "print(\n",
    "    f'''\n",
    "    DATA:\n",
    "    \\t mu: \\t\\t{data_mu}\n",
    "    \\t sigma: \\t{data_sigma}\n",
    "    '''\n",
    ")"
   ]
  },
  {
   "cell_type": "code",
   "execution_count": 94,
   "metadata": {
    "id": "4PaZfGCiS67g"
   },
   "outputs": [],
   "source": [
    "# ---- DANCEABILITY ----\n",
    "# eps = 0.1 (0.01 also wokrs t ~ 9)\n",
    "danceability_parameter_priors = [\n",
    "    pyabc.Distribution(\n",
    "        mu=pyabc.RV(\"uniform\", 0.1, 0.9),\n",
    "        sigma=pyabc.RV(\"uniform\", 0.1, 0.9),\n",
    "                      )\n",
    "]\n",
    "\n",
    "# ---- LOUDNESS ----\n",
    "# eps = 0.1 with t ~ 8\n",
    "\n",
    "loudness_parameter_priors = [\n",
    "    pyabc.Distribution(\n",
    "        mu=pyabc.RV(\"uniform\", -10, 10),\n",
    "        sigma=pyabc.RV(\"uniform\", 0.1, 5),\n",
    "                      )\n",
    "]"
   ]
  },
  {
   "cell_type": "code",
   "execution_count": 95,
   "metadata": {
    "colab": {
     "base_uri": "https://localhost:8080/"
    },
    "id": "Ca4xHs9xS67g",
    "outputId": "4a3ed1e8-59e5-45e2-d433-be18993560cf"
   },
   "outputs": [
    {
     "name": "stderr",
     "output_type": "stream",
     "text": [
      "INFO:Sampler:Parallelizing the sampling on 2 cores.\n",
      "INFO:History:Start <ABCSMC(id=7, start_time=2021-01-10 18:06:41.913043, end_time=None)>\n"
     ]
    }
   ],
   "source": [
    "db_path = (\"sqlite:///\" +\n",
    "           os.path.join(tempfile.gettempdir(), \"tutorial.db\"))\n",
    "abc = pyabc.ABCSMC(gaussian_simulation, danceability_parameter_priors, distance)\n",
    "abc.new(db_path, {\"data\": data});"
   ]
  },
  {
   "cell_type": "code",
   "execution_count": 96,
   "metadata": {
    "colab": {
     "base_uri": "https://localhost:8080/"
    },
    "id": "MVa8Q2QwS67h",
    "outputId": "8601a3ea-685e-4ad1-c229-f3d1f2aa05db"
   },
   "outputs": [
    {
     "name": "stderr",
     "output_type": "stream",
     "text": [
      "INFO:ABC:Calibration sample before t=0.\n",
      "INFO:Epsilon:initial epsilon is 0.3015981744702136\n",
      "INFO:ABC:t: 0, eps: 0.3015981744702136.\n",
      "INFO:ABC:Acceptance rate: 100 / 205 = 4.8780e-01, ESS=1.0000e+02.\n",
      "INFO:ABC:t: 1, eps: 0.2049554615437449.\n",
      "INFO:ABC:Acceptance rate: 100 / 166 = 6.0241e-01, ESS=9.5060e+01.\n",
      "INFO:ABC:t: 2, eps: 0.147193723673748.\n",
      "INFO:ABC:Acceptance rate: 100 / 217 = 4.6083e-01, ESS=9.2941e+01.\n",
      "INFO:ABC:t: 3, eps: 0.10286822414870715.\n",
      "INFO:ABC:Acceptance rate: 100 / 201 = 4.9751e-01, ESS=9.0044e+01.\n",
      "INFO:ABC:t: 4, eps: 0.06382062745174202.\n",
      "INFO:ABC:Acceptance rate: 100 / 201 = 4.9751e-01, ESS=9.3929e+01.\n",
      "INFO:pyabc.util:Stopping: minimum epsilon.\n",
      "INFO:History:Done <ABCSMC(id=7, start_time=2021-01-10 18:06:41.913043, end_time=2021-01-10 18:06:51.696599)>\n"
     ]
    }
   ],
   "source": [
    "history = abc.run(minimum_epsilon=0.1, max_nr_populations=10)"
   ]
  },
  {
   "cell_type": "code",
   "execution_count": 97,
   "metadata": {
    "colab": {
     "base_uri": "https://localhost:8080/"
    },
    "id": "zsksYQD2S67h",
    "outputId": "ff3c235e-623c-42a0-b110-3b2051cd4dd0"
   },
   "outputs": [
    {
     "name": "stdout",
     "output_type": "stream",
     "text": [
      "\n",
      "    MODEL:\n",
      "    \t mu: \t\t0.6612839533013914\n",
      "    \t sigma: \t0.1724422194704397\n",
      "    DATA:\n",
      "    \t mu: \t\t0.6393643210022456\n",
      "    \t sigma: \t0.1566152732579436\n",
      "    \n"
     ]
    }
   ],
   "source": [
    "mu = float(history.get_distribution()[0].tail(1).mu)\n",
    "sigma = float(history.get_distribution()[0].tail(1).sigma)\n",
    "print(\n",
    "    f'''\n",
    "    MODEL:\n",
    "    \\t mu: \\t\\t{mu}\n",
    "    \\t sigma: \\t{sigma}\n",
    "    DATA:\n",
    "    \\t mu: \\t\\t{data_mu}\n",
    "    \\t sigma: \\t{data_sigma}\n",
    "    '''\n",
    ")"
   ]
  },
  {
   "cell_type": "code",
   "execution_count": 98,
   "metadata": {
    "colab": {
     "base_uri": "https://localhost:8080/",
     "height": 583
    },
    "id": "w7WrwF_CS67i",
    "outputId": "e0922529-fc18-4a94-a4e1-8b91d9b9448b"
   },
   "outputs": [
    {
     "data": {
      "image/png": "[encoded data removed]",
      "text/plain": [
       "<Figure size 864x576 with 4 Axes>"
      ]
     },
     "metadata": {
      "needs_background": "light",
      "tags": []
     },
     "output_type": "display_data"
    }
   ],
   "source": [
    "plot_history(history)"
   ]
  },
  {
   "cell_type": "code",
   "execution_count": 99,
   "metadata": {
    "colab": {
     "base_uri": "https://localhost:8080/",
     "height": 308
    },
    "id": "SKAg3kiwS67i",
    "outputId": "516305c5-01d5-44dd-ae56-a4622c3a8e6a"
   },
   "outputs": [
    {
     "data": {
      "image/png": "[encoded data removed]",
      "text/plain": [
       "<Figure size 1080x720 with 2 Axes>"
      ]
     },
     "metadata": {
      "needs_background": "light",
      "tags": []
     },
     "output_type": "display_data"
    }
   ],
   "source": [
    "plot_posterior(history, data_name)"
   ]
  },
  {
   "cell_type": "code",
   "execution_count": 101,
   "metadata": {
    "colab": {
     "base_uri": "https://localhost:8080/",
     "height": 263
    },
    "id": "76rhn7vcS67j",
    "outputId": "6be9fdd6-a3b1-41e4-8249-2f96978e19e5"
   },
   "outputs": [
    {
     "data": {
      "image/png": "[encoded data removed]",
      "text/plain": [
       "<Figure size 432x288 with 1 Axes>"
      ]
     },
     "metadata": {
      "needs_background": "light",
      "tags": []
     },
     "output_type": "display_data"
    }
   ],
   "source": [
    "plot_comparison(mu, sigma)"
   ]
  },
  {
   "cell_type": "markdown",
   "metadata": {
    "id": "ZwBkBsyzS67k"
   },
   "source": [
    "## Gauss z dwoma \"górkami\""
   ]
  },
  {
   "cell_type": "code",
   "execution_count": 102,
   "metadata": {
    "colab": {
     "base_uri": "https://localhost:8080/",
     "height": 294
    },
    "id": "rIWwTKNoS67l",
    "outputId": "2c1fcce8-39ec-4190-d57e-2dfb94198a4c"
   },
   "outputs": [
    {
     "data": {
      "text/plain": [
       "<AxesSubplot:xlabel='key', ylabel='count'>"
      ]
     },
     "execution_count": 102,
     "metadata": {
      "tags": []
     },
     "output_type": "execute_result"
    },
    {
     "data": {
      "image/png": "[encoded data removed]",
      "text/plain": [
       "<Figure size 432x288 with 1 Axes>"
      ]
     },
     "metadata": {
      "needs_background": "light",
      "tags": []
     },
     "output_type": "display_data"
    }
   ],
   "source": [
    "sns.countplot(x=\"key\", data=df)"
   ]
  },
  {
   "cell_type": "code",
   "execution_count": 103,
   "metadata": {
    "id": "k8mBZ1HaS67l"
   },
   "outputs": [],
   "source": [
    "hists = []\n",
    "def get_hist(data):\n",
    "    c = Counter(data)\n",
    "    hist = []\n",
    "    for key in possible_keys:\n",
    "        hist.append(c.get(key, 0))\n",
    "    return np.array(hist)\n",
    "\n",
    "def double_distance(simulation, data):\n",
    "    data_stats = get_hist(data[\"data\"])\n",
    "    simulation_stats = get_hist(simulation[\"data\"])\n",
    "    hists.append({'sim': simulation_stats, 'data': data_stats})\n",
    "    return np.mean(abs(simulation_stats - data_stats))"
   ]
  },
  {
   "cell_type": "code",
   "execution_count": 104,
   "metadata": {
    "id": "ebTTCA0IS67m"
   },
   "outputs": [],
   "source": [
    "def double_gaussian_simulation(parameters):\n",
    "    second_heap_samples = n_double_samples - int(parameters['f_h_samples'])\n",
    "    h1 = st.norm.rvs(loc=parameters['mu_1'], scale=parameters['sigma_1'], size=int(parameters['f_h_samples']))\n",
    "    h2 = st.norm.rvs(loc=parameters['mu_2'], scale=parameters['sigma_2'], size=second_heap_samples)\n",
    "    h1 = [max(0, min(int(h), possible_keys[-1])) for h in h1]\n",
    "    h2 = [max(0, min(int(h), possible_keys[-1])) for h in h2]\n",
    "\n",
    "    data = np.hstack([h1, h2])\n",
    "#     data = [int(d) for d in data]\n",
    "\n",
    "    return {\"data\": data}"
   ]
  },
  {
   "cell_type": "code",
   "execution_count": 105,
   "metadata": {
    "colab": {
     "base_uri": "https://localhost:8080/"
    },
    "id": "l919Cmd2S67m",
    "outputId": "9405169d-cff2-4b55-9ac1-c4325ae37ba5"
   },
   "outputs": [
    {
     "name": "stdout",
     "output_type": "stream",
     "text": [
      "\n",
      "    DATA:\n",
      "    \t mu_1: \t\t~ 1\n",
      "    \t sigma_1: \t~ 1\n",
      "    \t mu_2: \t\t~ 7\n",
      "    \t sigma_2: \t~ 3\n",
      "    \n"
     ]
    }
   ],
   "source": [
    "double_data = np.array(df.key)\n",
    "n_double_samples = double_data.shape[0]\n",
    "possible_keys = sorted(df.key.unique())\n",
    "\n",
    "print(\n",
    "    f'''\n",
    "    DATA:\n",
    "    \\t mu_1: \\t\\t~ 1\n",
    "    \\t sigma_1: \\t~ 1\n",
    "    \\t mu_2: \\t\\t~ 7\n",
    "    \\t sigma_2: \\t~ 3\n",
    "    '''\n",
    ")"
   ]
  },
  {
   "cell_type": "code",
   "execution_count": 107,
   "metadata": {
    "id": "WqdSR4VWS67n"
   },
   "outputs": [],
   "source": [
    "# ---- KEY ----\n",
    "# eps = 1000 t ~ 9\n",
    "# eps = 900 t ~ 10\n",
    "key_parameter_priors = [\n",
    "    pyabc.Distribution(\n",
    "        mu_1=pyabc.RV(\"uniform\", 0, 4),\n",
    "        sigma_1=pyabc.RV(\"uniform\", 0, 3),\n",
    "        mu_2=pyabc.RV(\"uniform\", 3, 10),\n",
    "        sigma_2=pyabc.RV(\"uniform\", 0, 6),\n",
    "        f_h_samples=pyabc.RV(\"uniform\", 0, n_double_samples)\n",
    "                      )\n",
    "]\n"
   ]
  },
  {
   "cell_type": "code",
   "execution_count": 127,
   "metadata": {
    "colab": {
     "base_uri": "https://localhost:8080/"
    },
    "id": "bwoAb5GDS67n",
    "outputId": "78eb783d-1d44-4cb2-9cd4-7d9bcc4bd41b"
   },
   "outputs": [
    {
     "name": "stderr",
     "output_type": "stream",
     "text": [
      "INFO:Sampler:Parallelizing the sampling on 2 cores.\n",
      "INFO:History:Start <ABCSMC(id=10, start_time=2021-01-10 18:25:15.113910, end_time=None)>\n"
     ]
    }
   ],
   "source": [
    "abc = pyabc.ABCSMC(double_gaussian_simulation, key_parameter_priors, double_distance)\n",
    "abc.new(db_path, {\"data\": double_data});"
   ]
  },
  {
   "cell_type": "code",
   "execution_count": 128,
   "metadata": {
    "colab": {
     "base_uri": "https://localhost:8080/"
    },
    "id": "7n9TdAv3S67o",
    "outputId": "37bea734-cc63-4a42-da00-16fd37db7f4c",
    "scrolled": true
   },
   "outputs": [
    {
     "name": "stderr",
     "output_type": "stream",
     "text": [
      "INFO:ABC:Calibration sample before t=0.\n",
      "INFO:Epsilon:initial epsilon is 3104.7499999999977\n",
      "INFO:ABC:t: 0, eps: 3104.7499999999977.\n",
      "INFO:ABC:Acceptance rate: 100 / 199 = 5.0251e-01, ESS=1.0000e+02.\n",
      "INFO:ABC:t: 1, eps: 2443.083333333333.\n",
      "INFO:ABC:Acceptance rate: 100 / 184 = 5.4348e-01, ESS=1.9282e+01.\n",
      "INFO:ABC:t: 2, eps: 1949.526550435046.\n",
      "INFO:ABC:Acceptance rate: 100 / 258 = 3.8760e-01, ESS=7.0533e+01.\n",
      "INFO:ABC:t: 3, eps: 1671.3174175337338.\n",
      "INFO:ABC:Acceptance rate: 100 / 228 = 4.3860e-01, ESS=3.3563e+01.\n",
      "INFO:ABC:t: 4, eps: 1476.2048920735938.\n",
      "INFO:ABC:Acceptance rate: 100 / 275 = 3.6364e-01, ESS=4.1765e+01.\n",
      "INFO:ABC:t: 5, eps: 1326.7938893454743.\n",
      "INFO:ABC:Acceptance rate: 100 / 255 = 3.9216e-01, ESS=6.2662e+01.\n",
      "INFO:ABC:t: 6, eps: 1212.5479772455985.\n",
      "INFO:ABC:Acceptance rate: 100 / 270 = 3.7037e-01, ESS=5.0514e+01.\n",
      "INFO:ABC:t: 7, eps: 1108.4006895552045.\n",
      "INFO:ABC:Acceptance rate: 100 / 359 = 2.7855e-01, ESS=5.4182e+01.\n",
      "INFO:ABC:t: 8, eps: 1039.40749603731.\n",
      "INFO:ABC:Acceptance rate: 100 / 340 = 2.9412e-01, ESS=5.4670e+01.\n",
      "INFO:ABC:t: 9, eps: 942.397733325009.\n",
      "INFO:ABC:Acceptance rate: 100 / 319 = 3.1348e-01, ESS=5.4192e+01.\n",
      "INFO:ABC:t: 10, eps: 843.4626256769948.\n",
      "INFO:ABC:Acceptance rate: 100 / 325 = 3.0769e-01, ESS=4.9607e+01.\n",
      "INFO:ABC:t: 11, eps: 761.9101734450159.\n",
      "INFO:ABC:Acceptance rate: 100 / 447 = 2.2371e-01, ESS=7.1655e+01.\n",
      "INFO:ABC:t: 12, eps: 679.4371806699613.\n",
      "INFO:ABC:Acceptance rate: 100 / 351 = 2.8490e-01, ESS=7.9374e+01.\n",
      "INFO:pyabc.util:Stopping: minimum epsilon.\n",
      "INFO:History:Done <ABCSMC(id=10, start_time=2021-01-10 18:25:15.113910, end_time=2021-01-10 18:29:21.949862)>\n"
     ]
    }
   ],
   "source": [
    "history = abc.run(minimum_epsilon=700, max_nr_populations=15)"
   ]
  },
  {
   "cell_type": "code",
   "execution_count": 129,
   "metadata": {
    "colab": {
     "base_uri": "https://localhost:8080/"
    },
    "id": "ecO4_GITS67o",
    "outputId": "2cc802fb-1537-4ff1-9c82-0addb665ccbd"
   },
   "outputs": [
    {
     "name": "stdout",
     "output_type": "stream",
     "text": [
      "\n",
      "    MODEL:\n",
      "    \t mu_1: \t\t1.7214054468345414\n",
      "    \t sigma_1: \t0.41340195317583933\n",
      "    \t mu_2: \t\t7.461437601774429\n",
      "    \t sigma_2: \t3.074963549071191\n",
      "    \t f_h_samples: \t11828.98112973221\n",
      "    \n"
     ]
    }
   ],
   "source": [
    "mu_1 = float(history.get_distribution()[0].tail(1).mu_1)\n",
    "sigma_1 = float(history.get_distribution()[0].tail(1).sigma_1)\n",
    "\n",
    "mu_2 = float(history.get_distribution()[0].tail(1).mu_2)\n",
    "sigma_2 = float(history.get_distribution()[0].tail(1).sigma_2)\n",
    "\n",
    "f_h_samples = float(history.get_distribution()[0].tail(1).f_h_samples)\n",
    "print(\n",
    "    f'''\n",
    "    MODEL:\n",
    "    \\t mu_1: \\t\\t{mu_1}\n",
    "    \\t sigma_1: \\t{sigma_1}\n",
    "    \\t mu_2: \\t\\t{mu_2}\n",
    "    \\t sigma_2: \\t{sigma_2}\n",
    "    \\t f_h_samples: \\t{f_h_samples}\n",
    "    '''\n",
    ")"
   ]
  },
  {
   "cell_type": "code",
   "execution_count": 130,
   "metadata": {
    "colab": {
     "base_uri": "https://localhost:8080/",
     "height": 263
    },
    "id": "bBAWbPi9S67q",
    "outputId": "e822c8e5-904c-4a17-aa80-eb77e7966816"
   },
   "outputs": [
    {
     "data": {
      "image/png": "[encoded data removed]",
      "text/plain": [
       "<Figure size 432x288 with 1 Axes>"
      ]
     },
     "metadata": {
      "needs_background": "light",
      "tags": []
     },
     "output_type": "display_data"
    }
   ],
   "source": [
    "plot_double_comparison(mu_1, sigma_1, mu_2, sigma_2, f_h_samples)"
   ]
  },
  {
   "cell_type": "code",
   "execution_count": null,
   "metadata": {
    "id": "ViWgwruoS67s"
   },
   "outputs": [],
   "source": []
  }
 ],
 "metadata": {
  "colab": {
   "collapsed_sections": [],
   "name": "ABC-SMC_filled.ipynb",
   "provenance": []
  },
  "kernelspec": {
   "display_name": "Python 3",
   "language": "python",
   "name": "python3"
  },
  "language_info": {
   "codemirror_mode": {
    "name": "ipython",
    "version": 3
   },
   "file_extension": ".py",
   "mimetype": "text/x-python",
   "name": "python",
   "nbconvert_exporter": "python",
   "pygments_lexer": "ipython3",
   "version": "3.8.6"
  }
 },
 "nbformat": 4,
 "nbformat_minor": 1
}
