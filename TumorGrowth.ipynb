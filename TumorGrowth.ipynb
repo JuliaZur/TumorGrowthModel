{
 "cells": [
  {
   "cell_type": "code",
   "execution_count": 1,
   "metadata": {
    "collapsed": true,
    "id": "WsYHXoOzWyyM"
   },
   "outputs": [
    {
     "name": "stdout",
     "output_type": "stream",
     "text": [
      "Requirement already satisfied: pyabc==0.10.10 in /Library/Frameworks/Python.framework/Versions/3.7/lib/python3.7/site-packages (0.10.10)\n",
      "Requirement already satisfied: ipython>=7.16.1 in /Library/Frameworks/Python.framework/Versions/3.7/lib/python3.7/site-packages (from pyabc==0.10.10) (7.19.0)\n",
      "Requirement already satisfied: sqlalchemy>=1.3.18 in /Library/Frameworks/Python.framework/Versions/3.7/lib/python3.7/site-packages (from pyabc==0.10.10) (1.3.20)\n",
      "Requirement already satisfied: flask>=1.1.2 in /Library/Frameworks/Python.framework/Versions/3.7/lib/python3.7/site-packages (from pyabc==0.10.10) (1.1.2)\n",
      "Requirement already satisfied: pygments>=2.6.1 in /Library/Frameworks/Python.framework/Versions/3.7/lib/python3.7/site-packages (from pyabc==0.10.10) (2.7.2)\n",
      "Requirement already satisfied: feather-format>=0.4.1 in /Library/Frameworks/Python.framework/Versions/3.7/lib/python3.7/site-packages (from pyabc==0.10.10) (0.4.1)\n",
      "Requirement already satisfied: matplotlib>=3.3.0 in /Library/Frameworks/Python.framework/Versions/3.7/lib/python3.7/site-packages (from pyabc==0.10.10) (3.3.3)\n",
      "Requirement already satisfied: click>=7.1.2 in /Library/Frameworks/Python.framework/Versions/3.7/lib/python3.7/site-packages (from pyabc==0.10.10) (7.1.2)\n",
      "Requirement already satisfied: bokeh>=2.1.1 in /Library/Frameworks/Python.framework/Versions/3.7/lib/python3.7/site-packages (from pyabc==0.10.10) (2.2.3)\n",
      "Requirement already satisfied: pyarrow>=1.0.0 in /Library/Frameworks/Python.framework/Versions/3.7/lib/python3.7/site-packages (from pyabc==0.10.10) (2.0.0)\n",
      "Requirement already satisfied: redis>=2.10.6 in /Library/Frameworks/Python.framework/Versions/3.7/lib/python3.7/site-packages (from pyabc==0.10.10) (3.5.3)\n",
      "Requirement already satisfied: flask-bootstrap>=3.3.7.1 in /Library/Frameworks/Python.framework/Versions/3.7/lib/python3.7/site-packages (from pyabc==0.10.10) (3.3.7.1)\n",
      "Requirement already satisfied: pandas<1.2.0,>=1.0.5 in /Library/Frameworks/Python.framework/Versions/3.7/lib/python3.7/site-packages (from pyabc==0.10.10) (1.1.4)\n",
      "Requirement already satisfied: numpy>=1.19.1 in /Library/Frameworks/Python.framework/Versions/3.7/lib/python3.7/site-packages (from pyabc==0.10.10) (1.19.4)\n",
      "Requirement already satisfied: jabbar>=0.0.10 in /Library/Frameworks/Python.framework/Versions/3.7/lib/python3.7/site-packages (from pyabc==0.10.10) (0.0.13)\n",
      "Requirement already satisfied: distributed>=2.21.0 in /Library/Frameworks/Python.framework/Versions/3.7/lib/python3.7/site-packages (from pyabc==0.10.10) (2.30.1)\n",
      "Requirement already satisfied: scipy>=1.5.2 in /Library/Frameworks/Python.framework/Versions/3.7/lib/python3.7/site-packages (from pyabc==0.10.10) (1.5.4)\n",
      "Requirement already satisfied: scikit-learn>=0.23.1 in /Library/Frameworks/Python.framework/Versions/3.7/lib/python3.7/site-packages (from pyabc==0.10.10) (0.23.2)\n",
      "Requirement already satisfied: gitpython>=3.1.7 in /Library/Frameworks/Python.framework/Versions/3.7/lib/python3.7/site-packages (from pyabc==0.10.10) (3.1.11)\n",
      "Requirement already satisfied: cloudpickle>=1.5.0 in /Library/Frameworks/Python.framework/Versions/3.7/lib/python3.7/site-packages (from pyabc==0.10.10) (1.6.0)\n",
      "Requirement already satisfied: tornado>=5.1 in /Library/Frameworks/Python.framework/Versions/3.7/lib/python3.7/site-packages (from bokeh>=2.1.1->pyabc==0.10.10) (6.0.3)\n",
      "Requirement already satisfied: PyYAML>=3.10 in /Library/Frameworks/Python.framework/Versions/3.7/lib/python3.7/site-packages (from bokeh>=2.1.1->pyabc==0.10.10) (5.3.1)\n",
      "Requirement already satisfied: pillow>=7.1.0 in /Library/Frameworks/Python.framework/Versions/3.7/lib/python3.7/site-packages (from bokeh>=2.1.1->pyabc==0.10.10) (8.0.1)\n",
      "Requirement already satisfied: Jinja2>=2.7 in /Library/Frameworks/Python.framework/Versions/3.7/lib/python3.7/site-packages (from bokeh>=2.1.1->pyabc==0.10.10) (2.11.1)\n",
      "Requirement already satisfied: packaging>=16.8 in /Library/Frameworks/Python.framework/Versions/3.7/lib/python3.7/site-packages (from bokeh>=2.1.1->pyabc==0.10.10) (20.3)\n",
      "Requirement already satisfied: python-dateutil>=2.1 in /Library/Frameworks/Python.framework/Versions/3.7/lib/python3.7/site-packages (from bokeh>=2.1.1->pyabc==0.10.10) (2.8.0)\n",
      "Requirement already satisfied: typing-extensions>=3.7.4 in /Library/Frameworks/Python.framework/Versions/3.7/lib/python3.7/site-packages (from bokeh>=2.1.1->pyabc==0.10.10) (3.7.4.3)\n",
      "Requirement already satisfied: psutil>=5.0 in /Library/Frameworks/Python.framework/Versions/3.7/lib/python3.7/site-packages (from distributed>=2.21.0->pyabc==0.10.10) (5.7.3)\n",
      "Requirement already satisfied: dask>=2.9.0 in /Library/Frameworks/Python.framework/Versions/3.7/lib/python3.7/site-packages (from distributed>=2.21.0->pyabc==0.10.10) (2.30.0)\n",
      "Requirement already satisfied: sortedcontainers!=2.0.0,!=2.0.1 in /Library/Frameworks/Python.framework/Versions/3.7/lib/python3.7/site-packages (from distributed>=2.21.0->pyabc==0.10.10) (2.2.2)\n",
      "Requirement already satisfied: setuptools in /Library/Frameworks/Python.framework/Versions/3.7/lib/python3.7/site-packages (from distributed>=2.21.0->pyabc==0.10.10) (46.1.3)\n",
      "Requirement already satisfied: zict>=0.1.3 in /Library/Frameworks/Python.framework/Versions/3.7/lib/python3.7/site-packages (from distributed>=2.21.0->pyabc==0.10.10) (2.0.0)\n",
      "Requirement already satisfied: msgpack>=0.6.0 in /Library/Frameworks/Python.framework/Versions/3.7/lib/python3.7/site-packages (from distributed>=2.21.0->pyabc==0.10.10) (1.0.0)\n",
      "Requirement already satisfied: tblib>=1.6.0 in /Library/Frameworks/Python.framework/Versions/3.7/lib/python3.7/site-packages (from distributed>=2.21.0->pyabc==0.10.10) (1.7.0)\n",
      "Requirement already satisfied: toolz>=0.8.2 in /Library/Frameworks/Python.framework/Versions/3.7/lib/python3.7/site-packages (from distributed>=2.21.0->pyabc==0.10.10) (0.11.1)\n",
      "Requirement already satisfied: Werkzeug>=0.15 in /Library/Frameworks/Python.framework/Versions/3.7/lib/python3.7/site-packages (from flask>=1.1.2->pyabc==0.10.10) (1.0.1)\n",
      "Requirement already satisfied: itsdangerous>=0.24 in /Library/Frameworks/Python.framework/Versions/3.7/lib/python3.7/site-packages (from flask>=1.1.2->pyabc==0.10.10) (1.1.0)\n",
      "Requirement already satisfied: dominate in /Library/Frameworks/Python.framework/Versions/3.7/lib/python3.7/site-packages (from flask-bootstrap>=3.3.7.1->pyabc==0.10.10) (2.6.0)\n",
      "Requirement already satisfied: visitor in /Library/Frameworks/Python.framework/Versions/3.7/lib/python3.7/site-packages (from flask-bootstrap>=3.3.7.1->pyabc==0.10.10) (0.1.3)\n",
      "Requirement already satisfied: gitdb<5,>=4.0.1 in /Library/Frameworks/Python.framework/Versions/3.7/lib/python3.7/site-packages (from gitpython>=3.1.7->pyabc==0.10.10) (4.0.5)\n",
      "Requirement already satisfied: smmap<4,>=3.0.1 in /Library/Frameworks/Python.framework/Versions/3.7/lib/python3.7/site-packages (from gitdb<5,>=4.0.1->gitpython>=3.1.7->pyabc==0.10.10) (3.0.4)\n",
      "Requirement already satisfied: appnope in /Library/Frameworks/Python.framework/Versions/3.7/lib/python3.7/site-packages (from ipython>=7.16.1->pyabc==0.10.10) (0.1.0)\n",
      "Requirement already satisfied: traitlets>=4.2 in /Library/Frameworks/Python.framework/Versions/3.7/lib/python3.7/site-packages (from ipython>=7.16.1->pyabc==0.10.10) (4.3.3)\n",
      "Requirement already satisfied: pexpect>4.3 in /Library/Frameworks/Python.framework/Versions/3.7/lib/python3.7/site-packages (from ipython>=7.16.1->pyabc==0.10.10) (4.8.0)\n",
      "Requirement already satisfied: backcall in /Library/Frameworks/Python.framework/Versions/3.7/lib/python3.7/site-packages (from ipython>=7.16.1->pyabc==0.10.10) (0.1.0)\n",
      "Requirement already satisfied: pickleshare in /Library/Frameworks/Python.framework/Versions/3.7/lib/python3.7/site-packages (from ipython>=7.16.1->pyabc==0.10.10) (0.7.5)\n",
      "Requirement already satisfied: prompt-toolkit!=3.0.0,!=3.0.1,<3.1.0,>=2.0.0 in /Library/Frameworks/Python.framework/Versions/3.7/lib/python3.7/site-packages (from ipython>=7.16.1->pyabc==0.10.10) (3.0.3)\n",
      "Requirement already satisfied: jedi>=0.10 in /Library/Frameworks/Python.framework/Versions/3.7/lib/python3.7/site-packages (from ipython>=7.16.1->pyabc==0.10.10) (0.16.0)\n",
      "Requirement already satisfied: decorator in /Library/Frameworks/Python.framework/Versions/3.7/lib/python3.7/site-packages (from ipython>=7.16.1->pyabc==0.10.10) (4.4.0)\n",
      "Requirement already satisfied: parso>=0.5.2 in /Library/Frameworks/Python.framework/Versions/3.7/lib/python3.7/site-packages (from jedi>=0.10->ipython>=7.16.1->pyabc==0.10.10) (0.6.2)\n",
      "Requirement already satisfied: MarkupSafe>=0.23 in /Library/Frameworks/Python.framework/Versions/3.7/lib/python3.7/site-packages (from Jinja2>=2.7->bokeh>=2.1.1->pyabc==0.10.10) (1.1.1)\n"
     ]
    },
    {
     "name": "stdout",
     "output_type": "stream",
     "text": [
      "Requirement already satisfied: pyparsing!=2.0.4,!=2.1.2,!=2.1.6,>=2.0.3 in /Library/Frameworks/Python.framework/Versions/3.7/lib/python3.7/site-packages (from matplotlib>=3.3.0->pyabc==0.10.10) (2.4.2)\n",
      "Requirement already satisfied: kiwisolver>=1.0.1 in /Library/Frameworks/Python.framework/Versions/3.7/lib/python3.7/site-packages (from matplotlib>=3.3.0->pyabc==0.10.10) (1.1.0)\n",
      "Requirement already satisfied: cycler>=0.10 in /Library/Frameworks/Python.framework/Versions/3.7/lib/python3.7/site-packages (from matplotlib>=3.3.0->pyabc==0.10.10) (0.10.0)\n",
      "Requirement already satisfied: six in /Library/Frameworks/Python.framework/Versions/3.7/lib/python3.7/site-packages (from cycler>=0.10->matplotlib>=3.3.0->pyabc==0.10.10) (1.15.0)\n",
      "Requirement already satisfied: pytz>=2017.2 in /Library/Frameworks/Python.framework/Versions/3.7/lib/python3.7/site-packages (from pandas<1.2.0,>=1.0.5->pyabc==0.10.10) (2019.1)\n",
      "Requirement already satisfied: ptyprocess>=0.5 in /Library/Frameworks/Python.framework/Versions/3.7/lib/python3.7/site-packages (from pexpect>4.3->ipython>=7.16.1->pyabc==0.10.10) (0.6.0)\n",
      "Requirement already satisfied: wcwidth in /Library/Frameworks/Python.framework/Versions/3.7/lib/python3.7/site-packages (from prompt-toolkit!=3.0.0,!=3.0.1,<3.1.0,>=2.0.0->ipython>=7.16.1->pyabc==0.10.10) (0.1.8)\n",
      "Requirement already satisfied: threadpoolctl>=2.0.0 in /Library/Frameworks/Python.framework/Versions/3.7/lib/python3.7/site-packages (from scikit-learn>=0.23.1->pyabc==0.10.10) (2.1.0)\n",
      "Requirement already satisfied: joblib>=0.11 in /Library/Frameworks/Python.framework/Versions/3.7/lib/python3.7/site-packages (from scikit-learn>=0.23.1->pyabc==0.10.10) (0.14.0)\n",
      "Requirement already satisfied: ipython-genutils in /Library/Frameworks/Python.framework/Versions/3.7/lib/python3.7/site-packages (from traitlets>=4.2->ipython>=7.16.1->pyabc==0.10.10) (0.2.0)\n",
      "Requirement already satisfied: heapdict in /Library/Frameworks/Python.framework/Versions/3.7/lib/python3.7/site-packages (from zict>=0.1.3->distributed>=2.21.0->pyabc==0.10.10) (1.0.1)\n"
     ]
    }
   ],
   "source": [
    "!pip3 install pyabc==0.10.10"
   ]
  },
  {
   "cell_type": "code",
   "execution_count": 1,
   "metadata": {
    "colab": {
     "base_uri": "https://localhost:8080/"
    },
    "id": "siKy0xGGWfCU",
    "outputId": "766f4fa6-1ad1-430b-a861-ff7a988d3d1e"
   },
   "outputs": [
    {
     "name": "stdout",
     "output_type": "stream",
     "text": [
      "Archive:  data.zip\n",
      "   creating: data/\n",
      "  inflating: __MACOSX/._data         \n",
      "  inflating: data/TMZ3.csv           \n",
      "  inflating: __MACOSX/data/._TMZ3.csv  \n",
      "  inflating: data/TMZ2.csv           \n",
      "  inflating: __MACOSX/data/._TMZ2.csv  \n",
      "  inflating: data/TMZ1.csv           \n",
      "  inflating: __MACOSX/data/._TMZ1.csv  \n",
      "  inflating: data/playlists.csv      \n",
      "  inflating: __MACOSX/data/._playlists.csv  \n",
      "  inflating: data/PCV1.csv           \n",
      "  inflating: __MACOSX/data/._PCV1.csv  \n",
      "  inflating: data/PCV2.csv           \n",
      "  inflating: __MACOSX/data/._PCV2.csv  \n",
      "  inflating: data/PCV3.csv           \n",
      "  inflating: __MACOSX/data/._PCV3.csv  \n",
      "  inflating: data/RT1.csv            \n",
      "  inflating: __MACOSX/data/._RT1.csv  \n",
      "  inflating: data/RT2.csv            \n",
      "  inflating: __MACOSX/data/._RT2.csv  \n",
      "  inflating: data/RT3.csv            \n",
      "  inflating: __MACOSX/data/._RT3.csv  \n"
     ]
    }
   ],
   "source": [
    "!unzip data.zip"
   ]
  },
  {
   "cell_type": "code",
   "execution_count": 109,
   "metadata": {
    "id": "Fkc04_gzWQ8S"
   },
   "outputs": [],
   "source": [
    "%matplotlib inline\n",
    "import matplotlib.pyplot as plt\n",
    "import plotly.graph_objects as go\n",
    "\n",
    "import pandas as pd\n",
    "import numpy as np\n",
    "import scipy as sp\n",
    "import os\n",
    "import tempfile\n",
    "\n",
    "from pyabc import (ABCSMC,\n",
    "                   RV, Distribution,\n",
    "                   MedianEpsilon,\n",
    "                   LocalTransition)\n",
    "from pyabc.sampler import SingleCoreSampler\n",
    "\n",
    "import TumorPatientData as TPD\n",
    "\n",
    "from functools import partial\n",
    "import multiprocessing\n",
    "import time\n",
    "\n",
    "from termcolor import colored"
   ]
  },
  {
   "cell_type": "code",
   "execution_count": 3,
   "metadata": {
    "id": "nL08vLyaWQ8U"
   },
   "outputs": [],
   "source": [
    "db_path = (\"sqlite:///\" +\n",
    "           os.path.join(tempfile.gettempdir(), \"tumor.db\"))"
   ]
  },
  {
   "cell_type": "code",
   "execution_count": 4,
   "metadata": {
    "id": "mv7YpopVWQ8U"
   },
   "outputs": [],
   "source": [
    "MTD2Sphere = False\n",
    "data = TPD.load_data(MTD2Sphere)"
   ]
  },
  {
   "cell_type": "code",
   "execution_count": 5,
   "metadata": {
    "colab": {
     "base_uri": "https://localhost:8080/",
     "height": 542
    },
    "id": "EnXOc0mjWQ8V",
    "outputId": "b6cf8fef-2e89-4f9f-a092-f998f310256b"
   },
   "outputs": [
    {
     "data": {
      "text/html": [
       "<html>\n",
       "<head><meta charset=\"utf-8\" /></head>\n",
       "<body>\n",
       "    <div>\n",
       "            <script src=\"https://cdnjs.cloudflare.com/ajax/libs/mathjax/2.7.5/MathJax.js?config=TeX-AMS-MML_SVG\"></script><script type=\"text/javascript\">if (window.MathJax) {MathJax.Hub.Config({SVG: {font: \"STIX-Web\"}});}</script>\n",
       "                <script type=\"text/javascript\">window.PlotlyConfig = {MathJaxConfig: 'local'};</script>\n",
       "        <script src=\"https://cdn.plot.ly/plotly-latest.min.js\"></script>    \n",
       "            <div id=\"8dcfbec6-e0dc-4ade-86b0-f9fad4113977\" class=\"plotly-graph-div\" style=\"height:525px; width:100%;\"></div>\n",
       "            <script type=\"text/javascript\">\n",
       "                \n",
       "                    window.PLOTLYENV=window.PLOTLYENV || {};\n",
       "                    \n",
       "                if (document.getElementById(\"8dcfbec6-e0dc-4ade-86b0-f9fad4113977\")) {\n",
       "                    Plotly.newPlot(\n",
       "                        '8dcfbec6-e0dc-4ade-86b0-f9fad4113977',\n",
       "                        [{\"mode\": \"lines+markers\", \"type\": \"scatter\", \"x\": [-84.1591591591591, -43.49349349349345, -31.606606606606558, -24.099099099099078, -12.212212212212135, -4.704704704704682, 3.741241241241255, 7.807807807807848, 21.571571571571607, 33.45845845845849, 39.71471471471477, 46.59659659659661, 55.98098098098104], \"xaxis\": \"x\", \"y\": [34.5092024539877, 40.0477164280845, 43.456032719836365, 47.290388548057244, 54.95910020449894, 56.66325835037489, 53.25494205862303, 46.22528970688477, 38.34355828220856, 36.42638036809814, 34.93524199045669, 33.44410361281524, 36.21336059986365], \"yaxis\": \"y\"}, {\"mode\": \"lines+markers\", \"type\": \"scatter\", \"x\": [-77.27727727727722, -40.617353464575636, -3.688063063062998, 6.304568457346307, 20.859053497942426, 33.02399621844069, 47.57848125903689, 57.353881659437256, 69.73605549994443, 81.0320737404071, 88.41793182070967, 91.893629740852, 99.06225670114559], \"xaxis\": \"x\", \"y\": [33.23108384458075, 35.988506400060565, 46.19570362796331, 40.42641823827914, 33.02989850791482, 30.36715140498369, 29.479569037339967, 33.473689691736695, 32.58610732409298, 32.88196811330755, 35.988506400060565, 37.76367113534799, 40.13055744906457], \"yaxis\": \"y\"}, {\"mode\": \"lines+markers\", \"type\": \"scatter\", \"x\": [-73.85371482593699, -69.94355466577683, -63.209389945500995, -49.74106050494933, -37.358886664442174, -15.201312423534606, -6.077605383160887, 3.9150261372484176, 10.214728617506438, 16.948893337782266, 21.945209097986922, null, null], \"xaxis\": \"x\", \"y\": [31.550594561841976, 32.88196811330755, 36.87608876770428, 40.13055744906457, 42.20158297356657, 48.85845073089446, 49.450172309323605, 48.266729152465324, 43.53295652503215, 44.124678103461314, 46.047773233356025, null, null], \"yaxis\": \"y\"}, {\"mode\": \"lines+markers\", \"type\": \"scatter\", \"x\": [-10.856690023356665, 5.652875097319593, 16.514431097764486, 28.027680458236038, 33.8929206984763, null, null, null, null, null, null, null, null], \"xaxis\": \"x\", \"y\": [47.67500757403617, 44.420538892675886, 41.16607021131557, 45.45605165492688, 48.4146595470726, null, null, null, null, null, null, null, null], \"yaxis\": \"y\"}, {\"mode\": \"lines+markers\", \"type\": \"scatter\", \"x\": [-14.332387943498983, -12.811770103436745, -8.68437882326765, -2.8191385830274385, 0.22209709709713368, 3.9150261372484176, 10.43195973751537, 21.945209097986922, 27.593218218218283, 35.19630741852967, null, null, null], \"xaxis\": \"x\", \"y\": [34.213341664773125, 36.5802279784897, 38.207462319169856, 41.905722184352, 40.57434863288644, 39.242975081420866, 39.390905476028145, 43.38502613042488, 40.27848784367187, 42.497443762781145, null, null, null], \"yaxis\": \"y\"}, {\"mode\": \"lines+markers\", \"type\": \"scatter\", \"x\": [-44.08284023668641, -31.952662721893507, -26.035502958579887, -18.934911242603558, -11.538461538461561, -1.1834319526627155, 2.3668639053254314, 8.284023668639037, 16.863905325443767, 21.597633136094657, 33.43195266272187, 37.573964497041395, 42.89940828402365, 48.2248520710059, 50.59171597633136, 61.24260355029583, 67.15976331360946], \"xaxis\": \"x2\", \"y\": [47.86589358637031, 54.658126272427474, 55.64035098162943, 60.84316550188707, 63.22788803828892, 68.82002071601207, 63.77555272463182, 58.72156013001084, 55.26651030443014, 53.637803150262535, 52.18172942983345, 54.579548295691325, 56.36898312954653, 57.353588989558666, 61.56941649899399, 71.58691795744886, 89.67175836081579], \"yaxis\": \"y2\"}, {\"mode\": \"lines+markers\", \"type\": \"scatter\", \"x\": [-54.43786982248521, -50.88757396449705, -50.00000000000002, -13.609467455621314, -3.5502958579881745, 0.0, 2.9585798816567888, 4.437869822485197, 9.467455621301779, 14.497041420118336, 20.414201183431945, 26.33136094674555, 31.952662721893486, null, null, null, null], \"xaxis\": \"x2\", \"y\": [41.46893193480409, 45.076375412236736, 47.88970509447216, 70.88209731763362, 79.29232197921256, 81.2901075089591, 88.72286976295645, 90.3265748336171, 77.83148595716311, 74.79313752336506, 70.94638838950866, 71.32499136832833, 69.89391973140621, null, null, null, null], \"yaxis\": \"y2\"}, {\"mode\": \"lines+markers\", \"type\": \"scatter\", \"x\": [-4.142011834319547, 2.3668639053254314, 6.804733727810628, 10.355029585798805, 14.201183431952671, 17.751479289940818, 21.301775147928964, 26.03550295857985, 30.76923076923075, 36.39053254437869, 40.23668639053253, 44.970414201183424, null, null, null, null, null], \"xaxis\": \"x2\", \"y\": [48.50999488052577, 44.66086459585918, 37.60075244365604, 35.17197861726574, 32.33959972854882, 33.73376352791305, 30.09774624075817, 30.88352600811973, 36.498279618539655, 44.72515566773424, 44.709678187468036, 50.123224554427175, null, null, null, null, null], \"yaxis\": \"y2\"}, {\"mode\": \"lines+markers\", \"type\": \"scatter\", \"x\": [-26.331360946745573, -1.1834319526627155, 5.917159763313607, 10.650887573964496, 17.455621301775125, 22.189349112426015, 28.10650887573962, 35.79881656804733, null, null, null, null, null, null, null, null, null], \"xaxis\": \"x2\", \"y\": [40.14858381055565, 58.558451299513074, 53.29848915981096, 51.26736751872181, 49.22791184979703, 52.42817853868775, 49.5874656221352, 48.952888931220464, null, null, null, null, null, null, null, null, null], \"yaxis\": \"y2\"}, {\"mode\": \"lines+markers\", \"type\": \"scatter\", \"x\": [-98.52071005917162, -89.94082840236689, -76.92307692307693, -69.82248520710061, -61.83431952662722, -44.08284023668641, -31.06508875739647, -20.41420118343197, -7.100591715976336, -2.3668639053254594, 2.3668639053254314, 8.284023668639037, 13.905325443786976, 21.597633136094657, 39.644970414201204, 50.59171597633136, 60.94674556213018], \"xaxis\": \"x2\", \"y\": [54.92600573857346, 57.50717321681568, 59.86927482052075, 64.06605312347457, 65.4423582917624, 72.61438453204434, 73.9704499184456, 77.34811234269523, 77.89815817984835, 79.48876692105296, 72.22625694998393, 72.00123819842129, 69.16171585727383, 66.51506673175149, 60.00380984129632, 62.173038229376274, 62.13136809019802], \"yaxis\": \"y2\"}, {\"mode\": \"lines+markers\", \"type\": \"scatter\", \"x\": [-36.09467455621304, -30.177514792899427, -25.14792899408285, -18.639053254437886, -10.94674556213019, -4.142011834319547, 13.017751479289927, 28.69822485207098, 33.72781065088756, null, null, null, null, null, null, null, null], \"xaxis\": \"x2\", \"y\": [42.40115247699214, 50.828045194242385, 56.039193742335684, 60.640767683021224, 63.22550688747872, 62.19208743585777, 53.06870810662794, 49.182669984403475, 48.76001571559537, null, null, null, null, null, null, null, null], \"yaxis\": \"y2\"}, {\"mode\": \"lines+markers\", \"type\": \"scatter\", \"x\": [-46.36454151276696, -3.95374979926126, 4.7663936620095635, 11.18557179308749, 19.95383901646952, 31.712220973181307, 39.403636493406886, 48.392270221080246, 60.12522527345079, 71.4477811680317, 80.42793926092466, 85.54900701247259, 88.52752350873442, 91.9440964973324, null], \"xaxis\": \"x3\", \"y\": [68.47599164926929, 84.96868475991648, 84.2553931802366, 81.35583391324519, 78.89120853630249, 76.86151704940848, 77.15147297610761, 72.51217814892135, 78.74623057295291, 79.47112038970077, 77.58640686615634, 79.90605427974947, 84.11041521688702, 84.83530503363487, null], \"yaxis\": \"y3\"}, {\"mode\": \"lines+markers\", \"type\": \"scatter\", \"x\": [-1.6554609853148181, 12.036703959459743, 14.831879092839445, 33.8779687026034, 52.4668201202648, 83.88287564905522, 91.1473868279714, 98.62512713452172, null, null, null, null, null, null, null], \"xaxis\": \"x3\", \"y\": [88.02482022732546, 82.51565762004174, 76.86151704940848, 67.43794943168638, 67.7279053583855, 65.8431918348411, 65.98816979819067, 66.27812572488979, null, null, null, null, null, null, null], \"yaxis\": \"y3\"}, {\"mode\": \"lines+markers\", \"type\": \"scatter\", \"x\": [-9.009635458487194, -6.032903306389728, -1.3311564334528612, 3.783666113520013, 7.629373873632772, 17.242081972770933, 23.656799243438115, 40.757953714112396, 49.51863747479618, 55.50823474831827, 68.33008582695436, 80.71611084345948, 91.6336206127438, null, null], \"xaxis\": \"x3\", \"y\": [47.57596845279517, 52.360241243331004, 52.07028531663187, 56.41962421711898, 56.56460218046856, 57.43446996056598, 55.984690327070275, 53.665042913477144, 53.665042913477144, 51.490373463233574, 51.05543957318487, 53.375086986778, 46.8510786360473, null, null], \"yaxis\": \"y3\"}, {\"mode\": \"lines+markers\", \"type\": \"scatter\", \"x\": [-16.950413075673993, -11.435005263815254, -4.8034901771853535, 3.9790517995110974, 11.285495066288405, 23.92266652391913, 40.59736273932518, 48.48594828970614, 52.328979533572465, 57.016005567153826, 60.16894170547618, 63.79160644505114, 67.40757989400996, null, null], \"xaxis\": \"x3\", \"y\": [58.8842495940617, 71.93226629552308, 69.46764091858037, 62.3637207144514, 48.88077012294129, 39.02226861517048, 36.41266527487821, 42.06680584551147, 43.08165158895847, 47.57596845279517, 64.53839016469496, 67.7279053583855, 73.09209000231964, null, null], \"yaxis\": \"y3\"}, {\"mode\": \"lines+markers\", \"type\": \"scatter\", \"x\": [-20.364755634066668, -8.369501989543721, -6.033795478471888, -2.399978587870009, 6.1470299591385364, 13.62387809360672, 23.452937922666536, 25.172599611013, 31.374533840087107, 37.154024588262594, 42.696643648626974, 49.296040540299465, null, null, null], \"xaxis\": \"x3\", \"y\": [57.43446996056598, 47.865924379494295, 52.650197170030154, 52.21526327998144, 52.21526327998144, 52.795175133379715, 52.795175133379715, 49.4606819763396, 47.72094641614473, 44.386453259104606, 48.590814196242164, 56.56460218046856, null, null, null], \"yaxis\": \"y3\"}, {\"mode\": \"lines+markers\", \"type\": \"scatter\", \"x\": [-13.7198579662045, -1.7888407115964355, 9.98961511696379, 18.537515836054467, 24.095747907856463, 26.84051531859467, null, null, null, null, null, null, null, null, null], \"xaxis\": \"x3\", \"y\": [50.62050568313616, 61.928786824402685, 53.375086986778, 53.08513106007887, 52.21526327998144, 62.94363256784968, null, null, null, null, null, null, null, null, null], \"yaxis\": \"y3\"}, {\"mode\": \"lines+markers\", \"type\": \"scatter\", \"x\": [-23.993665578216692, -16.5208322181182, -11.861017433042447, -5.018057562942687, -0.9805328051674279, 1.5929375657977118, 3.7644844137537636, 11.712845493638811, 24.56547650910912, 34.82367110968366, 40.8128222971647, 48.91106828685119, 52.54265474724767, 56.80277643951968, 60.38172474706923], \"xaxis\": \"x3\", \"y\": [56.274646253769426, 58.159359777313846, 71.49733240547438, 69.75759684527951, 77.00649501275805, 73.96195778241706, 62.65367664115053, 48.88077012294129, 38.4423567617722, 37.862444908373924, 35.83275342147992, 42.79169566225933, 43.08165158895847, 47.43099048944559, 64.82834609139411], \"yaxis\": \"y3\"}, {\"mode\": \"lines+markers\", \"type\": \"scatter\", \"x\": [-16.950859161715073, -13.350944810234964, -11.863247863247821, -4.803936263226434, 4.191834841104168, 10.390646467890749, 13.419124600753007, 40.54383241439612, 51.90475170850957, 57.016897739235965, 60.59807647699091, null, null, null, null], \"xaxis\": \"x3\", \"y\": [59.02922755741126, 69.61261888192993, 72.2222222222222, 69.61261888192993, 62.65367664115053, 61.928786824402685, 49.89561586638829, 53.81002087682671, 42.06680584551147, 47.28601252609602, 63.95847831129668, null, null, null, null], \"yaxis\": \"y3\"}, {\"mode\": \"lines+markers\", \"type\": \"scatter\", \"x\": [-74.90843621399179, -47.09850823045265, -26.040123456790127, -15.10905349794237, -9.16126543209873, -4.338734567901213, -0.3199588477366149, 4.663323045267532, 8.360596707818956, 11.575617283950635, 16.558899176954778, 20.89917695473252, null, null], \"xaxis\": \"x4\", \"y\": [14.984217171717162, 21.012380751964074, 26.16372053872054, 28.465382996632986, 29.342206790123452, 31.42466329966328, 33.287913860830514, 31.53426627384961, 29.342206790123452, 27.040544332210985, 24.958087822671146, 29.9998246352413, null, null], \"yaxis\": \"y4\"}, {\"mode\": \"lines+markers\", \"type\": \"scatter\", \"x\": [-63.33436213991769, -38.417952674897094, -1.927469135802454, 1.7698045267489988, 5.627829218107023, 9.164351851851878, 11.575617283950635, 15.112139917695515, 21.542181069958872, null, null, null, null, null], \"xaxis\": \"x4\", \"y\": [32.301487093153746, 39.09687149270482, 48.41312429854096, 47.097888608305276, 49.61875701459033, 49.399551066217725, 48.30352132435465, 53.3452581369248, 55.53731762065095, null, null, null, null, null], \"yaxis\": \"y4\"}, {\"mode\": \"lines+markers\", \"type\": \"scatter\", \"x\": [-37.774948559670776, -35.04218106995883, -27.004629629629623, -14.30529835390945, -11.090277777777775, -5.142489711934132, -0.1592078189300139, 2.5735596707819184, 5.788580246913598, 8.521347736625529, 11.897119341563807, 14.147633744855995, 18.00565843621402, 24.75720164609055], \"xaxis\": \"x4\", \"y\": [35.8087822671156, 38.220047699214355, 40.3025042087542, 42.05615179573512, 42.49456369248036, 43.91940235690235, 47.645903479236814, 51.70121352413018, 51.92041947250279, 50.05716891133557, 48.30352132435465, 46.22106481481482, 54.6604938271605, 57.61977413019079], \"yaxis\": \"y4\"}, {\"mode\": \"lines+markers\", \"type\": \"scatter\", \"x\": [-13.180041152263355, -12.054783950617265, -10.608024691357997, -5.624742798353907, -0.9629629629629336, 2.0913065843621723, 4.020318930041185, 5.306327160493852, 7.396090534979437, 10.611111111111144, 14.629886831275739, 17.684156378600843, 20.256172839506206, null], \"xaxis\": \"x4\", \"y\": [35.47997334455667, 37.014414983164976, 38.987268518518526, 40.631313131313135, 41.17932800224466, 39.754489337822655, 37.12401795735129, 35.69917929292927, 33.287913860830514, 32.73989898989897, 32.301487093153746, 32.959104938271594, 33.39751683501683, null], \"yaxis\": \"y4\"}, {\"mode\": \"lines+markers\", \"type\": \"scatter\", \"x\": [-44.847993827160494, -34.881430041152235, -25.718621399176925, -13.34079218106993, -3.21347736625512, 1.6090534979424262, 4.663323045267532, 6.753086419753117, 9.807355967078225, 13.504629629629676, 16.558899176954778, 21.05992798353913, null, null], \"xaxis\": \"x4\", \"y\": [18.491512345679, 22.54682239057239, 24.19086700336699, 25.067690796857466, 30.219030583613897, 32.849501964085285, 27.478956228956218, 24.848484848484826, 23.314043209876534, 22.87563131313129, 24.738881874298528, 29.56141273849606, null, null], \"yaxis\": \"y4\"}, {\"mode\": \"lines+markers\", \"type\": \"scatter\", \"x\": [-9.000514403292158, -1.4452160493826796, 4.502572016460932, 8.521347736625529, 11.093364197530887, 13.343878600823073, 17.0411522633745, 30.383487654321016, null, null, null, null, null, null], \"xaxis\": \"x4\", \"y\": [21.998807519640852, 27.588559203142523, 27.588559203142523, 25.834911616161605, 24.19086700336699, 22.656425364758693, 21.012380751964074, 33.945531705948355, null, null, null, null, null, null], \"yaxis\": \"y4\"}, {\"mode\": \"lines+markers\", \"type\": \"scatter\", \"x\": [-3.3742283950617207, 1.6090534979424262, 4.020318930041185, 5.145576131687278, 9.003600823045305, 12.05787037037041, 15.272890946502088, 18.97016460905354, 21.3814300411523, 23.792695473251058, 24.75720164609055, 27.650720164609083, 31.669495884773713, 37.29578189300415], \"xaxis\": \"x4\", \"y\": [31.095854377104374, 26.49252946127945, 23.862058080808072, 22.54682239057239, 21.998807519640852, 21.23158670033668, 20.354762906846236, 19.039527216610534, 19.14913019079684, 18.710718294051613, 21.23158670033668, 23.64285213243545, 25.94451459034791, 27.91736812570145], \"yaxis\": \"y4\"}, {\"mode\": \"lines+markers\", \"type\": \"scatter\", \"x\": [-33.86844078129277, -9.517011658339284, -2.193514066771712, 5.379692851916218, 12.733492249471395, 18.77084652023038, 25.593242023891285, null, null, null, null, null, null, null, null, null], \"xaxis\": \"x5\", \"y\": [36.616702355460355, 42.86224125624553, 47.323340471092074, 55.710206995003546, 50.535331905781575, 47.323340471092074, 44.46823697359028, null, null, null, null, null, null, null, null, null], \"yaxis\": \"y5\"}, {\"mode\": \"lines+markers\", \"type\": \"scatter\", \"x\": [-95.78232529325413, -92.1163679133054, -79.02037628109302, -66.1836334334415, -63.04234621272316, -50.99737833263751, -41.56566064670785, -33.713564884022624, -27.94668228893109, -21.3992476173802, -16.686755641747354, -12.49612810256825, -2.5475962811827912, 5.8577880130544875, 13.738502148061373, 19.512679622372133], \"xaxis\": \"x5\", \"y\": [58.56531049250533, 59.457530335474644, 61.59885795860098, 62.84796573875801, 63.91862955032118, 66.95217701641683, 67.66595289079228, 70.69950035688791, 70.16416845110633, 71.41327623126337, 72.84082798001425, 73.55460385438971, 76.58815132048534, 70.3426124197002, 64.27551748750889, 61.42041399000711], \"yaxis\": \"y5\"}, {\"mode\": \"lines+markers\", \"type\": \"scatter\", \"x\": [-98.89499414165086, -89.72533096305872, -81.87042947759684, -77.41213598552693, -70.08639381573806, -51.234181334985344, -43.12788708873715, -36.582696995407595, -25.056787828999052, -5.415044958901774, -1.7462818561764095, 4.554810355586085, 11.10841761724555, 16.101481870541708, 21.871731332965254, null], \"xaxis\": \"x5\", \"y\": [48.39400428265523, 49.107780157030675, 51.249107780157026, 50.17844396859385, 53.925767309064945, 58.92219842969306, 64.45396145610277, 66.41684511063525, 67.84439685938614, 71.77016416845109, 71.77016416845109, 68.02284082797999, 67.30906495360455, 62.84796573875801, 61.24197002141325, null], \"yaxis\": \"y5\"}, {\"mode\": \"lines+markers\", \"type\": \"scatter\", \"x\": [-0.8910975538586285, 4.626636858667894, 12.47256003124454, 14.820388850731065, 18.19286762824396, 20.008731409280895, 23.14721290722261, null, null, null, null, null, null, null, null, null], \"xaxis\": \"x5\", \"y\": [49.82155603140612, 45.182012847965716, 50.17844396859385, 53.56887937187722, 64.45396145610277, 70.3426124197002, 72.30549607423268, null, null, null, null, null, null, null, null, null], \"yaxis\": \"y5\"}, {\"mode\": \"lines+markers\", \"type\": \"scatter\", \"x\": [-6.669764184612062, 1.982523713968931, 3.5700016609878844, 13.016870249911365, 20.104125983686398, 25.585386000116703, null, null, null, null, null, null, null, null, null, null], \"xaxis\": \"x5\", \"y\": [54.104211277658784, 52.67665952890791, 47.858672376873635, 43.75446109921482, 40.007137758743745, 46.966452533904345, null, null, null, null, null, null, null, null, null, null], \"yaxis\": \"y5\"}, {\"mode\": \"lines+markers\", \"type\": \"scatter\", \"x\": [-2.4735251998797025, 1.7086851709695168, 9.32173335308565, 13.271629878029644, 16.691244798189985, 19.057030243446945, 23.503539699854997, null, null, null, null, null, null, null, null, null], \"xaxis\": \"x5\", \"y\": [53.03354746609563, 56.423982869378996, 52.141327623126315, 46.07423269093502, 41.97002141327621, 39.650249821556024, 42.326909350463936, null, null, null, null, null, null, null, null, null], \"yaxis\": \"y5\"}, {\"mode\": \"lines+markers\", \"type\": \"scatter\", \"x\": [-33.343770622062394, -9.253273717335773, -2.4471514057793518, 6.448673229813409, 19.031778738457234, 25.593242023891285, null, null, null, null, null, null, null, null, null, null], \"xaxis\": \"x5\", \"y\": [36.43825838686651, 42.326909350463936, 44.646680942184155, 49.107780157030675, 47.68022840827979, 44.46823697359028, null, null, null, null, null, null, null, null, null, null], \"yaxis\": \"y5\"}, {\"mode\": \"lines+markers\", \"type\": \"scatter\", \"x\": [-93.73040752351095, -85.26645768025077, -73.35423197492163, -71.15987460815046, -67.39811912225704, -61.44200626959247, -57.05329153605014, -39.81191222570531, -20.376175548589345, -10.34482758620689, -7.836990595611298, -3.1347962382444905, 2.1943573667711576, 3.761755485893417, 10.031347962382457, 21.943573667711608, 35.736677115987455, 40.752351097178654], \"xaxis\": \"x6\", \"y\": [54.383701733161324, 55.68106623176104, 65.72778739531184, 66.3721250442815, 67.44624392591453, 67.24572391067501, 64.6964461169299, 78.16604394061933, 77.99426512756415, 80.57428932364598, 82.7118326860993, 85.06727446511286, 80.38780570947324, 73.35490037497244, 50.55376944208648, 39.91818783378227, 42.506232830473685, 38.252534907192654], \"yaxis\": \"y6\"}, {\"mode\": \"lines+markers\", \"type\": \"scatter\", \"x\": [-31.661442006269603, -22.25705329153604, -12.225705329153586, 0.9404388714733614, 14.733542319749205, 27.27272727272728, 36.36363636363637, 44.5141065830721, 52.03761755485894, null, null, null, null, null, null, null, null, null], \"xaxis\": \"x6\", \"y\": [50.46487223533028, 55.60219502576682, 59.674756535281496, 68.23161398560265, 55.89428584796572, 50.80375106108506, 51.46279351117232, 52.972709225925904, 52.98875082714507, null, null, null, null, null, null, null, null, null], \"yaxis\": \"y6\"}, {\"mode\": \"lines+markers\", \"type\": \"scatter\", \"x\": [-1.2539184952977962, 4.07523510971788, 9.717868338557992, 17.868338557993727, 24.45141065830723, 33.22884012539183, 40.752351097178654, 49.843260188087775, null, null, null, null, null, null, null, null, null, null], \"xaxis\": \"x6\", \"y\": [72.49132750934089, 62.268148732379295, 58.86866607401862, 55.048091383654935, 51.86383354165135, 51.45610951066434, 52.11180996049755, 49.57255816751442, null, null, null, null, null, null, null, null, null, null], \"yaxis\": \"y6\"}, {\"mode\": \"lines+markers\", \"type\": \"scatter\", \"x\": [-3.4482758620689538, -1.5673981191222597, 2.5078369905956213, 4.388714733542344, 12.225705329153614, 14.733542319749205, 24.76489028213169, 32.288401253918494, 42.633228840125405, null, null, null, null, null, null, null, null, null], \"xaxis\": \"x6\", \"y\": [68.2222563848915, 66.52050985555874, 57.14753594321274, 48.8359813115346, 47.5733736155764, 42.88788925947959, 39.2845445856254, 40.15346465166331, 42.734157247795956, null, null, null, null, null, null, null, null, null], \"yaxis\": \"y6\"}, {\"mode\": \"lines+markers\", \"type\": \"scatter\", \"x\": [-4.388714733542315, 1.8808777429467227, 2.8213166144200836, 3.4482758620689538, 13.793103448275874, 22.57053291536053, 29.780564263322898, null, null, null, null, null, null, null, null, null, null, null], \"xaxis\": \"x6\", \"y\": [65.44839617407811, 63.756007245456544, 57.5746435756729, 50.7529526572244, 45.87095868619286, 42.05172079593079, 38.44236052161939, null, null, null, null, null, null, null, null, null, null, null], \"yaxis\": \"y6\"}, {\"mode\": \"lines+markers\", \"type\": \"scatter\", \"x\": [-31.974921630094034, -21.943573667711593, -10.971786833855786, -2.5078369905956213, 5.3291536050156765, 10.658307210031351, 11.912225705329178, null, null, null, null, null, null, null, null, null, null, null], \"xaxis\": \"x6\", \"y\": [49.61132537046073, 55.81608304202231, 60.95674783271283, 66.51850465540636, 62.697261564991884, 63.7747224468789, 69.96076491701814, null, null, null, null, null, null, null, null, null, null, null], \"yaxis\": \"y6\"}, {\"mode\": \"lines+markers\", \"type\": \"scatter\", \"x\": [-38.29783950617282, -35.404320987654295, -27.88117283950615, -3.1898148148147816, 5.297839506172863, 23.623456790123466, 42.141975308642, 57.76697530864203, 81.49382716049384, 99.04783950617286, null], \"xaxis\": \"x7\", \"y\": [40.00750958819741, 42.64513871392175, 45.17253856275018, 48.95882674057276, 50.04712214103746, 36.745247893396005, 31.97389490775733, 31.782305926485805, 33.59583998208335, 46.0106310013717, null], \"yaxis\": \"y7\"}, {\"mode\": \"lines+markers\", \"type\": \"scatter\", \"x\": [-1.4537037037036669, 30.567901234567927, 53.90895061728397, null, null, null, null, null, null, null, null], \"xaxis\": \"x7\", \"y\": [41.09318048206936, 27.59096889784719, 41.60670893871951, null, null, null, null, null, null, null, null], \"yaxis\": \"y7\"}, {\"mode\": \"lines+markers\", \"type\": \"scatter\", \"x\": [-5.118827160493794, -0.6820987654320732, 1.4398148148148382, 4.719135802469168, 23.8163580246914, 42.141975308642, 68.76234567901236, 82.26543209876547, 95.57561728395063, null, null], \"xaxis\": \"x7\", \"y\": [27.691574983903013, 28.89272416785641, 26.802742084488106, 23.01207972901092, 20.86785784272556, 21.607093866353093, 21.596595839982047, 20.083130371490128, 23.686577923350388, null, null], \"yaxis\": \"y7\"}, {\"mode\": \"lines+markers\", \"type\": \"scatter\", \"x\": [-2.225308641975289, 2.7901234567901554, 11.470679012345698, 15.907407407407419, 19.765432098765444, 24.97376543209879, 39.2484567901235, 48.89351851851856, 61.04629629629631, 98.46913580246915, null], \"xaxis\": \"x7\", \"y\": [27.70469751686681, 29.433372525965094, 30.916218750874805, 29.75531200134373, 27.804428767391716, 25.990894711794173, 25.26828056325408, 25.04957168052404, 22.74263038548749, 24.35582710450433, null], \"yaxis\": \"y7\"}, {\"mode\": \"lines+markers\", \"type\": \"scatter\", \"x\": [-1.2608024691357684, 8.191358024691366, 20.15123456790127, 27.67438271604943, 44.64969135802471, 64.51851851851856, null, null, null, null, null], \"xaxis\": \"x7\", \"y\": [24.559663783208734, 25.52110803169002, 24.263094538226795, 23.24741048682845, 33.55997172531562, 44.93545813387081, null, null, null, null, null], \"yaxis\": \"y7\"}, {\"mode\": \"lines+markers\", \"type\": \"scatter\", \"x\": [-12.063271604938222, -7.626543209876503, -4.9259259259258945, -1.6466049382715937, 26.9027777777778, 51.20833333333337, 63.554012345679034, 74.74228395061732, 84.0015432098766, 89.98148148148151, 95.57561728395063], \"xaxis\": \"x7\", \"y\": [36.58340332017577, 36.99720052630103, 39.50272948685645, 41.22353097617646, 32.429684219366735, 31.75256151843452, 30.889973684947194, 33.302770079225084, 35.57559278855574, 34.29045939363397, 36.94033621679121], \"yaxis\": \"y7\"}, {\"mode\": \"lines+markers\", \"type\": \"scatter\", \"x\": [-16.11419753086418, -6.469135802469111, -2.611111111111086, 1.2469135802469395, 4.9120370370370665, 8.191358024691366, 15.907407407407419, 27.867283950617317, null, null, null], \"xaxis\": \"x7\", \"y\": [31.053567929229274, 32.80323899106966, 35.44524229444863, 37.824794938551534, 36.397938187620696, 33.52585313960974, 31.98614260519021, 47.918647294308656, null, null, null], \"yaxis\": \"y7\"}, {\"mode\": \"lines+markers\", \"type\": \"scatter\", \"x\": [-6.276234567901213, -2.0324074074073906, 29.217592592592613, 36.547839506172856, 38.09104938271608, null, null, null, null, null, null], \"xaxis\": \"x7\", \"y\": [42.90846420872876, 43.846287897875186, 29.55322499370116, 44.67738165224935, 50.458294840569955, null, null, null, null, null, null], \"yaxis\": \"y7\"}, {\"mode\": \"lines+markers\", \"type\": \"scatter\", \"x\": [-58.206014999493284, -53.09691817843994, -45.42561906692342, -31.720423296510248, -26.135730211817172, -15.211268200398635, -13.352167156514994, -10.098476402824216, -7.311408398364932, -6.139045133610352, -1.0325875815006498, 4.994974831931359, 10.970807574068461, 16.37726202943594, 21.211522977827343, 27.21014140851099, 34.1786911759738, 35.35228609956872, 40.21205998108175, 42.740919507223886, 43.92111260317785], \"xaxis\": \"x8\", \"y\": [46.40151515151516, 46.243686868686886, 48.29545454545455, 48.92676767676768, 52.08333333333333, 54.60858585858586, 54.92424242424242, 55.555555555555564, 55.555555555555564, 58.8699494949495, 57.92297979797979, 43.034511784511785, 35.827020202020186, 31.986531986531983, 30.67129629629629, 30.276725589225588, 30.53977272727272, 34.22243265993265, 40.53556397306397, 44.34974747474747, 50.005260942760934], \"yaxis\": \"y8\"}, {\"mode\": \"lines+markers\", \"type\": \"scatter\", \"x\": [-7.771608926500221, -5.054041670889518, -1.3705019819150266, 7.52779326148891, 10.22820526896615, 15.064225729986616, 21.642163693794146, 52.244047216873334, 62.995109258696225, null, null, null, null, null, null, null, null, null, null, null, null], \"xaxis\": \"x8\", \"y\": [45.270412457912464, 47.637836700336685, 49.47916666666666, 48.032407407407405, 45.270412457912464, 44.481271043771045, 43.69212962962963, 50.136784511784505, 81.83396464646465, null, null, null, null, null, null, null, null, null, null, null, null], \"yaxis\": \"y8\"}, {\"mode\": \"lines+markers\", \"type\": \"scatter\", \"x\": [-4.482639944596457, -1.381059057689498, 2.4920681170681287, 6.160212070538166, 12.732871496458445, 16.989132546197794, 26.479063911129145, 32.87269292704076, 49.565189239102295, 55.38829628503544, null, null, null, null, null, null, null, null, null, null, null], \"xaxis\": \"x8\", \"y\": [44.875841750841744, 46.322601010101, 46.98021885521885, 44.218223905723896, 41.85079966329967, 41.32470538720538, 43.16603535353536, 45.13888888888889, 59.343434343434346, 64.34132996632997, null, null, null, null, null, null, null, null, null, null, null], \"yaxis\": \"y8\"}, {\"mode\": \"lines+markers\", \"type\": \"scatter\", \"x\": [-3.9068394367307056, 1.7112843879148445, 9.247276978255258, 14.273764681373393, 21.82251373827461, 27.052225150051246, 37.32030097519228, 52.809290648964605, 57.845015793385365, 63.260795665687, 77.20317373849983, 81.47571028005814, 86.13094081844082, null, null, null, null, null, null, null, null], \"xaxis\": \"x8\", \"y\": [43.42908249158249, 45.00736531986532, 41.32470538720538, 39.61489898989899, 39.746422558922546, 40.930134680134685, 43.955176767676775, 45.53345959595958, 46.585648148148145, 45.53345959595958, 47.637836700336685, 51.97811447811448, 55.00315656565657, null, null, null, null, null, null, null, null], \"yaxis\": \"y8\"}, {\"mode\": \"lines+markers\", \"type\": \"scatter\", \"x\": [-3.722530488834821, 3.4347270080965586, 13.684327950632307, 21.03689134939134, 29.94310439962615, 42.52054055043189, 56.10001914349744, 62.49232852493722, 64.61298112113332, null, null, null, null, null, null, null, null, null, null, null, null], \"xaxis\": \"x8\", \"y\": [40.66708754208754, 39.48337542087542, 36.9844276094276, 36.32680976430976, 37.24747474747474, 36.32680976430976, 45.664983164983155, 47.24326599326599, 44.74431818181817, null, null, null, null, null, null, null, null, null, null, null, null], \"yaxis\": \"y8\"}, {\"mode\": \"lines+markers\", \"type\": \"scatter\", \"x\": [2.261132084501668, 7.099791814465733, 13.867317264056425, 18.706856750335017, 23.012384153688515, 34.444377582964556, 39.858397942637076, null, null, null, null, null, null, null, null, null, null, null, null, null, null], \"xaxis\": \"x8\", \"y\": [35.800715488215495, 35.800715488215495, 33.82786195286195, 34.09090909090908, 48.29545454545455, 52.10963804713804, 50.53135521885521, null, null, null, null, null, null, null, null, null, null, null, null, null, null], \"yaxis\": \"y8\"}, {\"mode\": \"lines+markers\", \"type\": \"scatter\", \"x\": [-11.635220125786162, -6.289308176100619, 5.031446540880523, 21.698113207547177, 78.3018867924528, 87.1069182389937, null, null, null, null, null, null, null, null, null], \"xaxis\": \"x9\", \"y\": [54.157782515991485, 56.28997867803839, 51.172707889125796, 46.69509594882729, 46.26865671641792, 72.92110874200426, null, null, null, null, null, null, null, null, null], \"yaxis\": \"y9\"}, {\"mode\": \"lines+markers\", \"type\": \"scatter\", \"x\": [-2.201257861635213, -0.9433962264150749, 10.062893081761018, 22.327044025157218, 35.22012578616354, 44.0251572327044, 59.748427672955984, 70.75471698113205, 86.47798742138363, 90.56603773584908, 98.74213836477985, null, null, null, null], \"xaxis\": \"x9\", \"y\": [77.61194029850748, 72.70788912579958, 38.166311300639656, 37.526652452025594, 35.82089552238807, 34.32835820895524, 32.196162046908306, 36.88699360341153, 38.37953091684436, 40.93816631130065, 45.628997867803854, null, null, null, null], \"yaxis\": \"y9\"}, {\"mode\": \"lines+markers\", \"type\": \"scatter\", \"x\": [-10.06289308176099, -3.773584905660371, 3.7735849056603854, 11.320754716981128, 23.270440251572357, 33.962264150943405, 36.79245283018869, 40.566037735849044, 47.798742138364794, 55.660377358490564, 62.264150943396224, 67.9245283018868, 74.52830188679245, 88.67924528301884, 100.0], \"xaxis\": \"x9\", \"y\": [59.488272921108745, 60.12793176972282, 53.518123667377395, 47.97441364605544, 46.48187633262261, 44.349680170575695, 42.0042643923241, 41.791044776119406, 41.364605543710034, 40.93816631130065, 41.364605543710034, 41.791044776119406, 41.364605543710034, 41.57782515991471, 65.4584221748401], \"yaxis\": \"y9\"}, {\"mode\": \"lines+markers\", \"type\": \"scatter\", \"x\": [-8.176100628930797, -2.5157232704402475, -0.6289308176100405, 2.201257861635213, 7.547169811320771, 11.949685534591195, 18.8679245283019, 24.213836477987428, 32.38993710691827, 39.622641509433976, 50.62893081761003, 62.57861635220127, 66.66666666666666, null, null], \"xaxis\": \"x9\", \"y\": [64.60554371002132, 66.95095948827293, 73.98720682302772, 74.84008528784649, 73.34754797441366, 72.49466950959489, 72.06823027718549, 73.34754797441366, 73.77398720682301, 73.34754797441366, 65.03198294243072, 60.12793176972282, 62.47334754797443, null, null], \"yaxis\": \"y9\"}, {\"mode\": \"lines+markers\", \"type\": \"scatter\", \"x\": [-11.006289308176092, -5.974842767295583, 2.5157232704402475, 6.289308176100633, 12.264150943396231, 20.125786163522008, 23.58490566037736, 26.729559748427675, 32.7044025157233, 38.679245283018865, 45.91194968553458, null, null, null, null], \"xaxis\": \"x9\", \"y\": [56.28997867803839, 56.71641791044778, 52.23880597014926, 55.01066098081024, 62.68656716417912, 65.88486140724947, 68.01705756929638, 69.08315565031984, 73.56076759061834, 73.13432835820895, 79.317697228145, null, null, null, null], \"yaxis\": \"y9\"}, {\"mode\": \"lines+markers\", \"type\": \"scatter\", \"x\": [-10.06289308176099, -5.3459119496855285, 1.257861635220138, 14.779874213836482, 22.641509433962256, 27.358490566037744, 38.364779874213845, null, null, null, null, null, null, null, null], \"xaxis\": \"x9\", \"y\": [59.061833688699366, 60.7675906183369, 56.92963752665246, 47.97441364605544, 47.12153518123668, 48.400852878464825, 81.2366737739872, null, null, null, null, null, null, null, null], \"yaxis\": \"y9\"}, {\"mode\": \"lines+markers\", \"type\": \"scatter\", \"x\": [-11.006289308176092, -6.289308176100619, 3.4591194968553514, 4.4025157232704535, 15.094339622641511, 22.327044025157218, 27.358490566037744, 33.647798742138384, 37.7358490566038, 42.767295597484285, null, null, null, null, null], \"xaxis\": \"x9\", \"y\": [53.94456289978679, 56.50319829424308, 53.30490405117271, 47.97441364605544, 44.776119402985096, 44.136460554371006, 48.61407249466952, 52.45202558635396, 55.22388059701493, 61.62046908315566, null, null, null, null, null], \"yaxis\": \"y9\"}],\n",
       "                        {\"annotations\": [{\"font\": {\"size\": 16}, \"showarrow\": false, \"text\": \"PCV1\", \"x\": 0.14444444444444446, \"xanchor\": \"center\", \"xref\": \"paper\", \"y\": 1.0, \"yanchor\": \"bottom\", \"yref\": \"paper\"}, {\"font\": {\"size\": 16}, \"showarrow\": false, \"text\": \"PCV2\", \"x\": 0.5, \"xanchor\": \"center\", \"xref\": \"paper\", \"y\": 1.0, \"yanchor\": \"bottom\", \"yref\": \"paper\"}, {\"font\": {\"size\": 16}, \"showarrow\": false, \"text\": \"PCV3\", \"x\": 0.8555555555555556, \"xanchor\": \"center\", \"xref\": \"paper\", \"y\": 1.0, \"yanchor\": \"bottom\", \"yref\": \"paper\"}, {\"font\": {\"size\": 16}, \"showarrow\": false, \"text\": \"TMZ1\", \"x\": 0.14444444444444446, \"xanchor\": \"center\", \"xref\": \"paper\", \"y\": 0.6111111111111112, \"yanchor\": \"bottom\", \"yref\": \"paper\"}, {\"font\": {\"size\": 16}, \"showarrow\": false, \"text\": \"TMZ2\", \"x\": 0.5, \"xanchor\": \"center\", \"xref\": \"paper\", \"y\": 0.6111111111111112, \"yanchor\": \"bottom\", \"yref\": \"paper\"}, {\"font\": {\"size\": 16}, \"showarrow\": false, \"text\": \"TMZ3\", \"x\": 0.8555555555555556, \"xanchor\": \"center\", \"xref\": \"paper\", \"y\": 0.6111111111111112, \"yanchor\": \"bottom\", \"yref\": \"paper\"}, {\"font\": {\"size\": 16}, \"showarrow\": false, \"text\": \"RT1\", \"x\": 0.14444444444444446, \"xanchor\": \"center\", \"xref\": \"paper\", \"y\": 0.22222222222222224, \"yanchor\": \"bottom\", \"yref\": \"paper\"}, {\"font\": {\"size\": 16}, \"showarrow\": false, \"text\": \"RT2\", \"x\": 0.5, \"xanchor\": \"center\", \"xref\": \"paper\", \"y\": 0.22222222222222224, \"yanchor\": \"bottom\", \"yref\": \"paper\"}, {\"font\": {\"size\": 16}, \"showarrow\": false, \"text\": \"RT3\", \"x\": 0.8555555555555556, \"xanchor\": \"center\", \"xref\": \"paper\", \"y\": 0.22222222222222224, \"yanchor\": \"bottom\", \"yref\": \"paper\"}], \"template\": {\"data\": {\"bar\": [{\"error_x\": {\"color\": \"#2a3f5f\"}, \"error_y\": {\"color\": \"#2a3f5f\"}, \"marker\": {\"line\": {\"color\": \"#E5ECF6\", \"width\": 0.5}}, \"type\": \"bar\"}], \"barpolar\": [{\"marker\": {\"line\": {\"color\": \"#E5ECF6\", \"width\": 0.5}}, \"type\": \"barpolar\"}], \"carpet\": [{\"aaxis\": {\"endlinecolor\": \"#2a3f5f\", \"gridcolor\": \"white\", \"linecolor\": \"white\", \"minorgridcolor\": \"white\", \"startlinecolor\": \"#2a3f5f\"}, \"baxis\": {\"endlinecolor\": \"#2a3f5f\", \"gridcolor\": \"white\", \"linecolor\": \"white\", \"minorgridcolor\": \"white\", \"startlinecolor\": \"#2a3f5f\"}, \"type\": \"carpet\"}], \"choropleth\": [{\"colorbar\": {\"outlinewidth\": 0, \"ticks\": \"\"}, \"type\": \"choropleth\"}], \"contour\": [{\"colorbar\": {\"outlinewidth\": 0, \"ticks\": \"\"}, \"colorscale\": [[0.0, \"#0d0887\"], [0.1111111111111111, \"#46039f\"], [0.2222222222222222, \"#7201a8\"], [0.3333333333333333, \"#9c179e\"], [0.4444444444444444, \"#bd3786\"], [0.5555555555555556, \"#d8576b\"], [0.6666666666666666, \"#ed7953\"], [0.7777777777777778, \"#fb9f3a\"], [0.8888888888888888, \"#fdca26\"], [1.0, \"#f0f921\"]], \"type\": \"contour\"}], \"contourcarpet\": [{\"colorbar\": {\"outlinewidth\": 0, \"ticks\": \"\"}, \"type\": \"contourcarpet\"}], \"heatmap\": [{\"colorbar\": {\"outlinewidth\": 0, \"ticks\": \"\"}, \"colorscale\": [[0.0, \"#0d0887\"], [0.1111111111111111, \"#46039f\"], [0.2222222222222222, \"#7201a8\"], [0.3333333333333333, \"#9c179e\"], [0.4444444444444444, \"#bd3786\"], [0.5555555555555556, \"#d8576b\"], [0.6666666666666666, \"#ed7953\"], [0.7777777777777778, \"#fb9f3a\"], [0.8888888888888888, \"#fdca26\"], [1.0, \"#f0f921\"]], \"type\": \"heatmap\"}], \"heatmapgl\": [{\"colorbar\": {\"outlinewidth\": 0, \"ticks\": \"\"}, \"colorscale\": [[0.0, \"#0d0887\"], [0.1111111111111111, \"#46039f\"], [0.2222222222222222, \"#7201a8\"], [0.3333333333333333, \"#9c179e\"], [0.4444444444444444, \"#bd3786\"], [0.5555555555555556, \"#d8576b\"], [0.6666666666666666, \"#ed7953\"], [0.7777777777777778, \"#fb9f3a\"], [0.8888888888888888, \"#fdca26\"], [1.0, \"#f0f921\"]], \"type\": \"heatmapgl\"}], \"histogram\": [{\"marker\": {\"colorbar\": {\"outlinewidth\": 0, \"ticks\": \"\"}}, \"type\": \"histogram\"}], \"histogram2d\": [{\"colorbar\": {\"outlinewidth\": 0, \"ticks\": \"\"}, \"colorscale\": [[0.0, \"#0d0887\"], [0.1111111111111111, \"#46039f\"], [0.2222222222222222, \"#7201a8\"], [0.3333333333333333, \"#9c179e\"], [0.4444444444444444, \"#bd3786\"], [0.5555555555555556, \"#d8576b\"], [0.6666666666666666, \"#ed7953\"], [0.7777777777777778, \"#fb9f3a\"], [0.8888888888888888, \"#fdca26\"], [1.0, \"#f0f921\"]], \"type\": \"histogram2d\"}], \"histogram2dcontour\": [{\"colorbar\": {\"outlinewidth\": 0, \"ticks\": \"\"}, \"colorscale\": [[0.0, \"#0d0887\"], [0.1111111111111111, \"#46039f\"], [0.2222222222222222, \"#7201a8\"], [0.3333333333333333, \"#9c179e\"], [0.4444444444444444, \"#bd3786\"], [0.5555555555555556, \"#d8576b\"], [0.6666666666666666, \"#ed7953\"], [0.7777777777777778, \"#fb9f3a\"], [0.8888888888888888, \"#fdca26\"], [1.0, \"#f0f921\"]], \"type\": \"histogram2dcontour\"}], \"mesh3d\": [{\"colorbar\": {\"outlinewidth\": 0, \"ticks\": \"\"}, \"type\": \"mesh3d\"}], \"parcoords\": [{\"line\": {\"colorbar\": {\"outlinewidth\": 0, \"ticks\": \"\"}}, \"type\": \"parcoords\"}], \"pie\": [{\"automargin\": true, \"type\": \"pie\"}], \"scatter\": [{\"marker\": {\"colorbar\": {\"outlinewidth\": 0, \"ticks\": \"\"}}, \"type\": \"scatter\"}], \"scatter3d\": [{\"line\": {\"colorbar\": {\"outlinewidth\": 0, \"ticks\": \"\"}}, \"marker\": {\"colorbar\": {\"outlinewidth\": 0, \"ticks\": \"\"}}, \"type\": \"scatter3d\"}], \"scattercarpet\": [{\"marker\": {\"colorbar\": {\"outlinewidth\": 0, \"ticks\": \"\"}}, \"type\": \"scattercarpet\"}], \"scattergeo\": [{\"marker\": {\"colorbar\": {\"outlinewidth\": 0, \"ticks\": \"\"}}, \"type\": \"scattergeo\"}], \"scattergl\": [{\"marker\": {\"colorbar\": {\"outlinewidth\": 0, \"ticks\": \"\"}}, \"type\": \"scattergl\"}], \"scattermapbox\": [{\"marker\": {\"colorbar\": {\"outlinewidth\": 0, \"ticks\": \"\"}}, \"type\": \"scattermapbox\"}], \"scatterpolar\": [{\"marker\": {\"colorbar\": {\"outlinewidth\": 0, \"ticks\": \"\"}}, \"type\": \"scatterpolar\"}], \"scatterpolargl\": [{\"marker\": {\"colorbar\": {\"outlinewidth\": 0, \"ticks\": \"\"}}, \"type\": \"scatterpolargl\"}], \"scatterternary\": [{\"marker\": {\"colorbar\": {\"outlinewidth\": 0, \"ticks\": \"\"}}, \"type\": \"scatterternary\"}], \"surface\": [{\"colorbar\": {\"outlinewidth\": 0, \"ticks\": \"\"}, \"colorscale\": [[0.0, \"#0d0887\"], [0.1111111111111111, \"#46039f\"], [0.2222222222222222, \"#7201a8\"], [0.3333333333333333, \"#9c179e\"], [0.4444444444444444, \"#bd3786\"], [0.5555555555555556, \"#d8576b\"], [0.6666666666666666, \"#ed7953\"], [0.7777777777777778, \"#fb9f3a\"], [0.8888888888888888, \"#fdca26\"], [1.0, \"#f0f921\"]], \"type\": \"surface\"}], \"table\": [{\"cells\": {\"fill\": {\"color\": \"#EBF0F8\"}, \"line\": {\"color\": \"white\"}}, \"header\": {\"fill\": {\"color\": \"#C8D4E3\"}, \"line\": {\"color\": \"white\"}}, \"type\": \"table\"}]}, \"layout\": {\"annotationdefaults\": {\"arrowcolor\": \"#2a3f5f\", \"arrowhead\": 0, \"arrowwidth\": 1}, \"coloraxis\": {\"colorbar\": {\"outlinewidth\": 0, \"ticks\": \"\"}}, \"colorscale\": {\"diverging\": [[0, \"#8e0152\"], [0.1, \"#c51b7d\"], [0.2, \"#de77ae\"], [0.3, \"#f1b6da\"], [0.4, \"#fde0ef\"], [0.5, \"#f7f7f7\"], [0.6, \"#e6f5d0\"], [0.7, \"#b8e186\"], [0.8, \"#7fbc41\"], [0.9, \"#4d9221\"], [1, \"#276419\"]], \"sequential\": [[0.0, \"#0d0887\"], [0.1111111111111111, \"#46039f\"], [0.2222222222222222, \"#7201a8\"], [0.3333333333333333, \"#9c179e\"], [0.4444444444444444, \"#bd3786\"], [0.5555555555555556, \"#d8576b\"], [0.6666666666666666, \"#ed7953\"], [0.7777777777777778, \"#fb9f3a\"], [0.8888888888888888, \"#fdca26\"], [1.0, \"#f0f921\"]], \"sequentialminus\": [[0.0, \"#0d0887\"], [0.1111111111111111, \"#46039f\"], [0.2222222222222222, \"#7201a8\"], [0.3333333333333333, \"#9c179e\"], [0.4444444444444444, \"#bd3786\"], [0.5555555555555556, \"#d8576b\"], [0.6666666666666666, \"#ed7953\"], [0.7777777777777778, \"#fb9f3a\"], [0.8888888888888888, \"#fdca26\"], [1.0, \"#f0f921\"]]}, \"colorway\": [\"#636efa\", \"#EF553B\", \"#00cc96\", \"#ab63fa\", \"#FFA15A\", \"#19d3f3\", \"#FF6692\", \"#B6E880\", \"#FF97FF\", \"#FECB52\"], \"font\": {\"color\": \"#2a3f5f\"}, \"geo\": {\"bgcolor\": \"white\", \"lakecolor\": \"white\", \"landcolor\": \"#E5ECF6\", \"showlakes\": true, \"showland\": true, \"subunitcolor\": \"white\"}, \"hoverlabel\": {\"align\": \"left\"}, \"hovermode\": \"closest\", \"mapbox\": {\"style\": \"light\"}, \"paper_bgcolor\": \"white\", \"plot_bgcolor\": \"#E5ECF6\", \"polar\": {\"angularaxis\": {\"gridcolor\": \"white\", \"linecolor\": \"white\", \"ticks\": \"\"}, \"bgcolor\": \"#E5ECF6\", \"radialaxis\": {\"gridcolor\": \"white\", \"linecolor\": \"white\", \"ticks\": \"\"}}, \"scene\": {\"xaxis\": {\"backgroundcolor\": \"#E5ECF6\", \"gridcolor\": \"white\", \"gridwidth\": 2, \"linecolor\": \"white\", \"showbackground\": true, \"ticks\": \"\", \"zerolinecolor\": \"white\"}, \"yaxis\": {\"backgroundcolor\": \"#E5ECF6\", \"gridcolor\": \"white\", \"gridwidth\": 2, \"linecolor\": \"white\", \"showbackground\": true, \"ticks\": \"\", \"zerolinecolor\": \"white\"}, \"zaxis\": {\"backgroundcolor\": \"#E5ECF6\", \"gridcolor\": \"white\", \"gridwidth\": 2, \"linecolor\": \"white\", \"showbackground\": true, \"ticks\": \"\", \"zerolinecolor\": \"white\"}}, \"shapedefaults\": {\"line\": {\"color\": \"#2a3f5f\"}}, \"ternary\": {\"aaxis\": {\"gridcolor\": \"white\", \"linecolor\": \"white\", \"ticks\": \"\"}, \"baxis\": {\"gridcolor\": \"white\", \"linecolor\": \"white\", \"ticks\": \"\"}, \"bgcolor\": \"#E5ECF6\", \"caxis\": {\"gridcolor\": \"white\", \"linecolor\": \"white\", \"ticks\": \"\"}}, \"title\": {\"x\": 0.05}, \"xaxis\": {\"automargin\": true, \"gridcolor\": \"white\", \"linecolor\": \"white\", \"ticks\": \"\", \"title\": {\"standoff\": 15}, \"zerolinecolor\": \"white\", \"zerolinewidth\": 2}, \"yaxis\": {\"automargin\": true, \"gridcolor\": \"white\", \"linecolor\": \"white\", \"ticks\": \"\", \"title\": {\"standoff\": 15}, \"zerolinecolor\": \"white\", \"zerolinewidth\": 2}}}, \"xaxis\": {\"anchor\": \"y\", \"domain\": [0.0, 0.2888888888888889], \"range\": [-100, 100], \"title\": {\"text\": \"Time [month]\"}, \"zerolinecolor\": \"Black\", \"zerolinewidth\": 1}, \"xaxis2\": {\"anchor\": \"y2\", \"domain\": [0.35555555555555557, 0.6444444444444445], \"range\": [-100, 100], \"title\": {\"text\": \"Time [month]\"}, \"zerolinecolor\": \"Black\", \"zerolinewidth\": 1}, \"xaxis3\": {\"anchor\": \"y3\", \"domain\": [0.7111111111111111, 1.0], \"range\": [-100, 100], \"title\": {\"text\": \"Time [month]\"}, \"zerolinecolor\": \"Black\", \"zerolinewidth\": 1}, \"xaxis4\": {\"anchor\": \"y4\", \"domain\": [0.0, 0.2888888888888889], \"range\": [-100, 100], \"title\": {\"text\": \"Time [month]\"}, \"zerolinecolor\": \"Black\", \"zerolinewidth\": 1}, \"xaxis5\": {\"anchor\": \"y5\", \"domain\": [0.35555555555555557, 0.6444444444444445], \"range\": [-100, 100], \"title\": {\"text\": \"Time [month]\"}, \"zerolinecolor\": \"Black\", \"zerolinewidth\": 1}, \"xaxis6\": {\"anchor\": \"y6\", \"domain\": [0.7111111111111111, 1.0], \"range\": [-100, 100], \"title\": {\"text\": \"Time [month]\"}, \"zerolinecolor\": \"Black\", \"zerolinewidth\": 1}, \"xaxis7\": {\"anchor\": \"y7\", \"domain\": [0.0, 0.2888888888888889], \"range\": [-100, 100], \"title\": {\"text\": \"Time [month]\"}, \"zerolinecolor\": \"Black\", \"zerolinewidth\": 1}, \"xaxis8\": {\"anchor\": \"y8\", \"domain\": [0.35555555555555557, 0.6444444444444445], \"range\": [-100, 100], \"title\": {\"text\": \"Time [month]\"}, \"zerolinecolor\": \"Black\", \"zerolinewidth\": 1}, \"xaxis9\": {\"anchor\": \"y9\", \"domain\": [0.7111111111111111, 1.0], \"range\": [-100, 100], \"title\": {\"text\": \"Time [month]\"}, \"zerolinecolor\": \"Black\", \"zerolinewidth\": 1}, \"yaxis\": {\"anchor\": \"x\", \"domain\": [0.7777777777777778, 1.0], \"range\": [0, 100], \"title\": {\"text\": \"MTD [mm]\"}}, \"yaxis2\": {\"anchor\": \"x2\", \"domain\": [0.7777777777777778, 1.0], \"range\": [0, 100], \"title\": {\"text\": \"MTD [mm]\"}}, \"yaxis3\": {\"anchor\": \"x3\", \"domain\": [0.7777777777777778, 1.0], \"range\": [0, 100], \"title\": {\"text\": \"MTD [mm]\"}}, \"yaxis4\": {\"anchor\": \"x4\", \"domain\": [0.3888888888888889, 0.6111111111111112], \"range\": [0, 100], \"title\": {\"text\": \"MTD [mm]\"}}, \"yaxis5\": {\"anchor\": \"x5\", \"domain\": [0.3888888888888889, 0.6111111111111112], \"range\": [0, 100], \"title\": {\"text\": \"MTD [mm]\"}}, \"yaxis6\": {\"anchor\": \"x6\", \"domain\": [0.3888888888888889, 0.6111111111111112], \"range\": [0, 100], \"title\": {\"text\": \"MTD [mm]\"}}, \"yaxis7\": {\"anchor\": \"x7\", \"domain\": [0.0, 0.22222222222222224], \"range\": [0, 100], \"title\": {\"text\": \"MTD [mm]\"}}, \"yaxis8\": {\"anchor\": \"x8\", \"domain\": [0.0, 0.22222222222222224], \"range\": [0, 100], \"title\": {\"text\": \"MTD [mm]\"}}, \"yaxis9\": {\"anchor\": \"x9\", \"domain\": [0.0, 0.22222222222222224], \"range\": [0, 100], \"title\": {\"text\": \"MTD [mm]\"}}},\n",
       "                        {\"responsive\": true}\n",
       "                    ).then(function(){\n",
       "                            \n",
       "var gd = document.getElementById('8dcfbec6-e0dc-4ade-86b0-f9fad4113977');\n",
       "var x = new MutationObserver(function (mutations, observer) {{\n",
       "        var display = window.getComputedStyle(gd).display;\n",
       "        if (!display || display === 'none') {{\n",
       "            console.log([gd, 'removed!']);\n",
       "            Plotly.purge(gd);\n",
       "            observer.disconnect();\n",
       "        }}\n",
       "}});\n",
       "\n",
       "// Listen for the removal of the full notebook cells\n",
       "var notebookContainer = gd.closest('#notebook-container');\n",
       "if (notebookContainer) {{\n",
       "    x.observe(notebookContainer, {childList: true});\n",
       "}}\n",
       "\n",
       "// Listen for the clearing of the current output cell\n",
       "var outputEl = gd.closest('.output');\n",
       "if (outputEl) {{\n",
       "    x.observe(outputEl, {childList: true});\n",
       "}}\n",
       "\n",
       "                        })\n",
       "                };\n",
       "                \n",
       "            </script>\n",
       "        </div>\n",
       "</body>\n",
       "</html>"
      ]
     },
     "metadata": {
      "tags": []
     },
     "output_type": "display_data"
    }
   ],
   "source": [
    "data_fig = TPD.make_plot(data, MTD2Sphere)\n",
    "data_fig.show()"
   ]
  },
  {
   "cell_type": "markdown",
   "metadata": {
    "id": "hCKxeWJrWQ8W"
   },
   "source": [
    "## Data groups\n",
    "* 0-2: PCV\n",
    "* 2-5: TMZ\n",
    "* 6-8: RT"
   ]
  },
  {
   "cell_type": "code",
   "execution_count": 6,
   "metadata": {
    "colab": {
     "base_uri": "https://localhost:8080/",
     "height": 444
    },
    "id": "J8KEo1luWQ8W",
    "outputId": "eb11f397-ec79-4b05-e3d8-9a4c83ef3120"
   },
   "outputs": [
    {
     "data": {
      "text/html": [
       "<div>\n",
       "<style scoped>\n",
       "    .dataframe tbody tr th:only-of-type {\n",
       "        vertical-align: middle;\n",
       "    }\n",
       "\n",
       "    .dataframe tbody tr th {\n",
       "        vertical-align: top;\n",
       "    }\n",
       "\n",
       "    .dataframe thead th {\n",
       "        text-align: right;\n",
       "    }\n",
       "</style>\n",
       "<table border=\"1\" class=\"dataframe\">\n",
       "  <thead>\n",
       "    <tr style=\"text-align: right;\">\n",
       "      <th></th>\n",
       "      <th>0</th>\n",
       "      <th>1</th>\n",
       "      <th>2</th>\n",
       "      <th>3</th>\n",
       "      <th>4</th>\n",
       "      <th>5</th>\n",
       "      <th>6</th>\n",
       "      <th>7</th>\n",
       "      <th>8</th>\n",
       "      <th>9</th>\n",
       "    </tr>\n",
       "  </thead>\n",
       "  <tbody>\n",
       "    <tr>\n",
       "      <th>0</th>\n",
       "      <td>-84.159159</td>\n",
       "      <td>34.509202</td>\n",
       "      <td>-77.277277</td>\n",
       "      <td>33.231084</td>\n",
       "      <td>-73.853715</td>\n",
       "      <td>31.550595</td>\n",
       "      <td>-10.856690</td>\n",
       "      <td>47.675008</td>\n",
       "      <td>-14.332388</td>\n",
       "      <td>34.213342</td>\n",
       "    </tr>\n",
       "    <tr>\n",
       "      <th>1</th>\n",
       "      <td>-43.493493</td>\n",
       "      <td>40.047716</td>\n",
       "      <td>-40.617353</td>\n",
       "      <td>35.988506</td>\n",
       "      <td>-69.943555</td>\n",
       "      <td>32.881968</td>\n",
       "      <td>5.652875</td>\n",
       "      <td>44.420539</td>\n",
       "      <td>-12.811770</td>\n",
       "      <td>36.580228</td>\n",
       "    </tr>\n",
       "    <tr>\n",
       "      <th>2</th>\n",
       "      <td>-31.606607</td>\n",
       "      <td>43.456033</td>\n",
       "      <td>-3.688063</td>\n",
       "      <td>46.195704</td>\n",
       "      <td>-63.209390</td>\n",
       "      <td>36.876089</td>\n",
       "      <td>16.514431</td>\n",
       "      <td>41.166070</td>\n",
       "      <td>-8.684379</td>\n",
       "      <td>38.207462</td>\n",
       "    </tr>\n",
       "    <tr>\n",
       "      <th>3</th>\n",
       "      <td>-24.099099</td>\n",
       "      <td>47.290389</td>\n",
       "      <td>6.304568</td>\n",
       "      <td>40.426418</td>\n",
       "      <td>-49.741061</td>\n",
       "      <td>40.130557</td>\n",
       "      <td>28.027680</td>\n",
       "      <td>45.456052</td>\n",
       "      <td>-2.819139</td>\n",
       "      <td>41.905722</td>\n",
       "    </tr>\n",
       "    <tr>\n",
       "      <th>4</th>\n",
       "      <td>-12.212212</td>\n",
       "      <td>54.959100</td>\n",
       "      <td>20.859053</td>\n",
       "      <td>33.029899</td>\n",
       "      <td>-37.358887</td>\n",
       "      <td>42.201583</td>\n",
       "      <td>33.892921</td>\n",
       "      <td>48.414660</td>\n",
       "      <td>0.222097</td>\n",
       "      <td>40.574349</td>\n",
       "    </tr>\n",
       "    <tr>\n",
       "      <th>5</th>\n",
       "      <td>-4.704705</td>\n",
       "      <td>56.663258</td>\n",
       "      <td>33.023996</td>\n",
       "      <td>30.367151</td>\n",
       "      <td>-15.201312</td>\n",
       "      <td>48.858451</td>\n",
       "      <td>NaN</td>\n",
       "      <td>NaN</td>\n",
       "      <td>3.915026</td>\n",
       "      <td>39.242975</td>\n",
       "    </tr>\n",
       "    <tr>\n",
       "      <th>6</th>\n",
       "      <td>3.741241</td>\n",
       "      <td>53.254942</td>\n",
       "      <td>47.578481</td>\n",
       "      <td>29.479569</td>\n",
       "      <td>-6.077605</td>\n",
       "      <td>49.450172</td>\n",
       "      <td>NaN</td>\n",
       "      <td>NaN</td>\n",
       "      <td>10.431960</td>\n",
       "      <td>39.390905</td>\n",
       "    </tr>\n",
       "    <tr>\n",
       "      <th>7</th>\n",
       "      <td>7.807808</td>\n",
       "      <td>46.225290</td>\n",
       "      <td>57.353882</td>\n",
       "      <td>33.473690</td>\n",
       "      <td>3.915026</td>\n",
       "      <td>48.266729</td>\n",
       "      <td>NaN</td>\n",
       "      <td>NaN</td>\n",
       "      <td>21.945209</td>\n",
       "      <td>43.385026</td>\n",
       "    </tr>\n",
       "    <tr>\n",
       "      <th>8</th>\n",
       "      <td>21.571572</td>\n",
       "      <td>38.343558</td>\n",
       "      <td>69.736055</td>\n",
       "      <td>32.586107</td>\n",
       "      <td>10.214729</td>\n",
       "      <td>43.532957</td>\n",
       "      <td>NaN</td>\n",
       "      <td>NaN</td>\n",
       "      <td>27.593218</td>\n",
       "      <td>40.278488</td>\n",
       "    </tr>\n",
       "    <tr>\n",
       "      <th>9</th>\n",
       "      <td>33.458458</td>\n",
       "      <td>36.426380</td>\n",
       "      <td>81.032074</td>\n",
       "      <td>32.881968</td>\n",
       "      <td>16.948893</td>\n",
       "      <td>44.124678</td>\n",
       "      <td>NaN</td>\n",
       "      <td>NaN</td>\n",
       "      <td>35.196307</td>\n",
       "      <td>42.497444</td>\n",
       "    </tr>\n",
       "    <tr>\n",
       "      <th>10</th>\n",
       "      <td>39.714715</td>\n",
       "      <td>34.935242</td>\n",
       "      <td>88.417932</td>\n",
       "      <td>35.988506</td>\n",
       "      <td>21.945209</td>\n",
       "      <td>46.047773</td>\n",
       "      <td>NaN</td>\n",
       "      <td>NaN</td>\n",
       "      <td>NaN</td>\n",
       "      <td>NaN</td>\n",
       "    </tr>\n",
       "    <tr>\n",
       "      <th>11</th>\n",
       "      <td>46.596597</td>\n",
       "      <td>33.444104</td>\n",
       "      <td>91.893630</td>\n",
       "      <td>37.763671</td>\n",
       "      <td>NaN</td>\n",
       "      <td>NaN</td>\n",
       "      <td>NaN</td>\n",
       "      <td>NaN</td>\n",
       "      <td>NaN</td>\n",
       "      <td>NaN</td>\n",
       "    </tr>\n",
       "    <tr>\n",
       "      <th>12</th>\n",
       "      <td>55.980981</td>\n",
       "      <td>36.213361</td>\n",
       "      <td>99.062257</td>\n",
       "      <td>40.130557</td>\n",
       "      <td>NaN</td>\n",
       "      <td>NaN</td>\n",
       "      <td>NaN</td>\n",
       "      <td>NaN</td>\n",
       "      <td>NaN</td>\n",
       "      <td>NaN</td>\n",
       "    </tr>\n",
       "  </tbody>\n",
       "</table>\n",
       "</div>"
      ],
      "text/plain": [
       "            0          1          2  ...          7          8          9\n",
       "0  -84.159159  34.509202 -77.277277  ...  47.675008 -14.332388  34.213342\n",
       "1  -43.493493  40.047716 -40.617353  ...  44.420539 -12.811770  36.580228\n",
       "2  -31.606607  43.456033  -3.688063  ...  41.166070  -8.684379  38.207462\n",
       "3  -24.099099  47.290389   6.304568  ...  45.456052  -2.819139  41.905722\n",
       "4  -12.212212  54.959100  20.859053  ...  48.414660   0.222097  40.574349\n",
       "5   -4.704705  56.663258  33.023996  ...        NaN   3.915026  39.242975\n",
       "6    3.741241  53.254942  47.578481  ...        NaN  10.431960  39.390905\n",
       "7    7.807808  46.225290  57.353882  ...        NaN  21.945209  43.385026\n",
       "8   21.571572  38.343558  69.736055  ...        NaN  27.593218  40.278488\n",
       "9   33.458458  36.426380  81.032074  ...        NaN  35.196307  42.497444\n",
       "10  39.714715  34.935242  88.417932  ...        NaN        NaN        NaN\n",
       "11  46.596597  33.444104  91.893630  ...        NaN        NaN        NaN\n",
       "12  55.980981  36.213361  99.062257  ...        NaN        NaN        NaN\n",
       "\n",
       "[13 rows x 10 columns]"
      ]
     },
     "execution_count": 6,
     "metadata": {
      "tags": []
     },
     "output_type": "execute_result"
    }
   ],
   "source": [
    "data[0]"
   ]
  },
  {
   "cell_type": "markdown",
   "metadata": {
    "id": "tG8V4q8SWQ8X"
   },
   "source": [
    "# Model\n",
    "<img src=\"ODE_cycle.jpg\" width=\"600\">\n",
    "\n",
    "## Czynniki\n",
    "**P** - proliferative tissue, tumor tissue <br>\n",
    "rozrastająca się tkanka rakowa\n",
    "\n",
    "**Q** - non-proliferative tissue <br>\n",
    "tkanka rakowa wyciszona\n",
    "\n",
    "**QP** - DNA-damaged Q tissue by the drug impact <br>\n",
    "tkanka rakowa wyciszona z uszkodzonym DNA\n",
    "\n",
    "**C** - drug concentration <br>\n",
    "obecna ilość leku w organiźmie (max 1)\n",
    "\n",
    "\n",
    "## Parametry\n",
    "**KDE** - constant rate of the decay of the drug concentration <br>\n",
    "tempo zanikania wpływu leku\n",
    "\n",
    "**lambda_P** - growth rate of P\n",
    "\n",
    "**gamma_P** - damages in P tissue caused by the drug\n",
    "\n",
    "**gamma_Q** - damages in Q tissue caused by the drug <br>\n",
    "autorzy zakładają: gamma_P = gamma_Q\n",
    "\n",
    "**k_QP_P** - constant rate of transfer from QP to P tissue \n",
    "\n",
    "**delta_QP** - constant rate of elimination of QP tissue\n",
    "\n",
    "**k_P_Q** - constant rate of transfer from P to Q tissue\n",
    "\n",
    "**K** - maximal tumor size"
   ]
  },
  {
   "cell_type": "markdown",
   "metadata": {
    "id": "oKqxDe7TWQ8X"
   },
   "source": [
    "# Individual Model"
   ]
  },
  {
   "cell_type": "code",
   "execution_count": 7,
   "metadata": {
    "id": "edZ-9ISKWQ8Y"
   },
   "outputs": [],
   "source": [
    "def individual_eq(t, y, KDE, lambda_P, gamma_P, gamma_Q, k_QP_P, delta_QP, k_P_Q, K, t_rise):\n",
    "    P_sum, C, P, Q, QP = y\n",
    "    \n",
    "    if t < -t_rise:\n",
    "        dC = 0\n",
    "        C = 0\n",
    "    elif -t_rise <= t < 0:\n",
    "        dC = 1/t_rise\n",
    "    else:\n",
    "        dC = -KDE * C\n",
    "    \n",
    "    dP = lambda_P * P * (1 - P_sum/K) + k_QP_P * QP - k_P_Q * P - gamma_P * C * KDE * P\n",
    "    dQ = k_P_Q * P - gamma_Q * C * KDE * Q\n",
    "    dQP = gamma_Q * C * KDE * Q - k_QP_P * QP - delta_QP * QP\n",
    "\n",
    "    dP_sum = dP+ dQ + dQP\n",
    "\n",
    "    return dP_sum, dC, dP, dQ, dQP"
   ]
  },
  {
   "cell_type": "code",
   "execution_count": 87,
   "metadata": {
    "id": "spwZl3dXWQ8Y"
   },
   "outputs": [],
   "source": [
    "def individual_model(t, y0, pars):\n",
    "    t_rise =  (t[-1] - t[0])/20\n",
    "    t_rise_up = min(t_rise, t[-1])\n",
    "    t_rise_down = max(-t_rise, t[0])\n",
    "    t_eval = np.unique(np.hstack([np.linspace(t[0], t[-1], 1000), np.linspace(t_rise_down, t_rise_up, 100), t]))\n",
    "    sol = sp.integrate.solve_ivp(fun=individual_eq, \n",
    "                                 t_span=(t[0], t[-1]),\n",
    "                                 t_eval=t_eval, \n",
    "                                 y0=y0,\n",
    "                                 args=(\n",
    "                                    pars[\"KDE\"], pars[\"lambda_P\"], pars[\"gamma_P\"],\n",
    "                                    pars[\"gamma_Q\"], pars[\"k_QP_P\"], pars[\"delta_QP\"],\n",
    "                                    pars[\"k_P_Q\"], pars[\"K\"], t_rise\n",
    "                                 ),\n",
    "#                                 method=\"BDF\",\n",
    "#                                 atol=1e-5\n",
    "                                )\n",
    "    return {\"P_sum\": sol.y[0, :], \"dC\": sol.y[1, :], \"t\": sol.t}"
   ]
  },
  {
   "cell_type": "markdown",
   "metadata": {
    "id": "g5NOjRpqWQ8Y"
   },
   "source": [
    "## PCV"
   ]
  },
  {
   "cell_type": "code",
   "execution_count": 88,
   "metadata": {
    "id": "uHPTpCcSWQ8Z"
   },
   "outputs": [],
   "source": [
    "KDE_art = 0.1\n",
    "lambda_P_art = 0.121\n",
    "gamma_P_art = 0.3\n",
    "gamma_Q_art = gamma_P_art\n",
    "k_QP_P_art = 0.05\n",
    "delta_QP_art = 0.01\n",
    "k_P_Q_art = 0.1\n",
    "K_art = 100"
   ]
  },
  {
   "cell_type": "code",
   "execution_count": 89,
   "metadata": {
    "id": "O275_ihwWQ8Z"
   },
   "outputs": [],
   "source": [
    "group_n = 0  #groups for PCV: 0, 1, 2\n",
    "# patient_n = 1\n",
    "patient_n = 2\n",
    "\n",
    "PCV_ind_patient_data = np.array(data[group_n][patient_n*2+1][data[group_n][patient_n*2+1].notnull()])\n",
    "PCV_ind_patient_time = data[group_n][patient_n*2][data[group_n][patient_n*2].notnull()]\n",
    "PCV_ind_patient_time = np.array([round(t) for t in PCV_ind_patient_time])"
   ]
  },
  {
   "cell_type": "code",
   "execution_count": 90,
   "metadata": {
    "id": "dvoHYTBGWQ8Z"
   },
   "outputs": [],
   "source": [
    "P_SUM_0 = PCV_ind_patient_data[0]\n",
    "C_0 = 0\n",
    "QP_0 = 0\n",
    "P_0 = P_SUM_0 / 5\n",
    "Q_0 = P_SUM_0 - P_0 - QP_0"
   ]
  },
  {
   "cell_type": "code",
   "execution_count": 91,
   "metadata": {
    "id": "scIza6UuWQ8a",
    "scrolled": false
   },
   "outputs": [],
   "source": [
    "PCV_art_ind_y0 = np.array([P_SUM_0, C_0, P_0, Q_0, QP_0])\n",
    "PCV_art_ind_model = individual_model(pars={\n",
    "    \"KDE\": KDE_art,\n",
    "    \"lambda_P\": lambda_P_art,\n",
    "    \"gamma_P\": gamma_P_art, \n",
    "    \"gamma_Q\": gamma_Q_art,\n",
    "    \"k_QP_P\": k_QP_P_art,\n",
    "    \"delta_QP\": delta_QP_art,\n",
    "    \"k_P_Q\": k_P_Q_art,\n",
    "    \"K\": K_art},\n",
    "    t=PCV_ind_patient_time,\n",
    "    y0=PCV_art_ind_y0\n",
    ")"
   ]
  },
  {
   "cell_type": "code",
   "execution_count": 92,
   "metadata": {
    "colab": {
     "base_uri": "https://localhost:8080/"
    },
    "id": "wjaJxx5mWQ8a",
    "outputId": "3ccb1355-2789-4876-f3d9-cb5674741ca0"
   },
   "outputs": [
    {
     "data": {
      "text/plain": [
       "{'P_sum': array([31.55059456, 31.6007572 , 31.65080015, ..., 48.84985054,\n",
       "        48.86934726, 48.88889812]),\n",
       " 'dC': array([0.        , 0.        , 0.        , ..., 0.09829543, 0.09735553,\n",
       "        0.09642452]),\n",
       " 't': array([-74.        , -73.9039039 , -73.80780781, ...,  21.80780781,\n",
       "         21.9039039 ,  22.        ])}"
      ]
     },
     "execution_count": 92,
     "metadata": {
      "tags": []
     },
     "output_type": "execute_result"
    }
   ],
   "source": [
    "PCV_art_ind_model"
   ]
  },
  {
   "cell_type": "code",
   "execution_count": 93,
   "metadata": {
    "colab": {
     "base_uri": "https://localhost:8080/",
     "height": 278
    },
    "id": "yCwkVZMxWQ8b",
    "outputId": "9fe89d35-0d3b-4485-8d4b-fdc550496587"
   },
   "outputs": [
    {
     "data": {
      "image/png": "[encoded data removed]",
      "text/plain": [
       "<Figure size 432x288 with 1 Axes>"
      ]
     },
     "metadata": {
      "needs_background": "light",
      "tags": []
     },
     "output_type": "display_data"
    }
   ],
   "source": [
    "plt.plot(PCV_art_ind_model['t'], PCV_art_ind_model['P_sum'], color=\"C0\", label='Simulation')\n",
    "plt.scatter(PCV_ind_patient_time, PCV_ind_patient_data, color=\"C1\", label='Data')\n",
    "plt.xlabel(\"TIME [DAYS]\")\n",
    "plt.ylabel(\"MTD [mm]\")\n",
    "plt.legend()\n",
    "plt.show()"
   ]
  },
  {
   "cell_type": "code",
   "execution_count": 94,
   "metadata": {
    "colab": {
     "base_uri": "https://localhost:8080/",
     "height": 277
    },
    "id": "waXpuip8WQ8b",
    "outputId": "03cc1356-0805-4705-8aae-3daa8389c759"
   },
   "outputs": [
    {
     "data": {
      "image/png": "[encoded data removed]",
      "text/plain": [
       "<Figure size 432x288 with 1 Axes>"
      ]
     },
     "metadata": {
      "needs_background": "light",
      "tags": []
     },
     "output_type": "display_data"
    }
   ],
   "source": [
    "plt.plot(PCV_art_ind_model['t'], PCV_art_ind_model['dC'], color=\"C0\", label='Simulation')\n",
    "plt.xlabel(\"TIME [DAYS]\")\n",
    "plt.ylabel(\"DRUG CONCENTRATION\")\n",
    "plt.show()"
   ]
  },
  {
   "cell_type": "markdown",
   "metadata": {
    "id": "vipL_INfWQ8b"
   },
   "source": [
    "### Asymilacja modelu indywidualnego do wybranego pacjenta\n",
    "\n"
   ]
  },
  {
   "cell_type": "code",
   "execution_count": 112,
   "metadata": {
    "id": "5ZNuBp9nWQ8c"
   },
   "outputs": [],
   "source": [
    "def get_simulation_time_indices(simulation_t, data_t):\n",
    "    indices = []\n",
    "    for t in data_t:\n",
    "        found = np.where(simulation_t == t)[0]\n",
    "        if found.shape[0] > 0:\n",
    "            found = found[0]\n",
    "            indices.append(found)\n",
    "    return indices\n",
    "\n",
    "\n",
    "def distance(simulation, measurement):\n",
    "    simulation_t = simulation['t']\n",
    "    measurement_t = measurement['t']\n",
    "    \n",
    "    sim_ind = get_simulation_time_indices(simulation_t, measurement_t)\n",
    "    \n",
    "    simulation_t = np.take(simulation_t, sim_ind)\n",
    "    if simulation_t.shape != measurement_t.shape:\n",
    "        print(\"simulation and measurement times shapes unequal\")\n",
    "\n",
    "    measurement_data = measurement['P_sum']\n",
    "    simulation_data = np.take(simulation['P_sum'], sim_ind)\n",
    "\n",
    "    #L1\n",
    "    # diff = np.abs(simulation_data - measurement_data)\n",
    "\n",
    "    #L2\n",
    "    diff = np.sqrt(np.square(simulation_data - measurement_data))\n",
    "\n",
    "    dist = np.mean(diff)\n",
    "    return dist\n",
    "\n",
    "\n",
    "def get_posterior(history):\n",
    "    return history.get_distribution()[0].tail(1).values[0]\n",
    "\n",
    "def show_art_abc_posterior(history):\n",
    "    (K_ind_abc, KDE_ind_abc,\n",
    "    delta_QP_ind_abc, gamma_P_ind_abc, \n",
    "    gamma_Q_ind_abc, k_P_Q_ind_abc, \n",
    "    k_QP_P_ind_abc, lambda_P_ind_abc) = get_posterior(h)\n",
    "    \n",
    "    print(\n",
    "    f\"\"\"\n",
    "    \\t\\tARTICLE: \\t ABC-SMC\n",
    "    K: \\t\\t {K_art} \\t\\t {K_ind_abc}\n",
    "    KDE: \\t {KDE_art} \\t\\t {KDE_ind_abc}\n",
    "    delta_QP: \\t {delta_QP_art} \\t\\t {delta_QP_ind_abc}\n",
    "    gamma_P: \\t {gamma_P_art} \\t\\t {gamma_P_ind_abc}\n",
    "    gamma_Q: \\t {gamma_Q_art} \\t\\t {gamma_Q_ind_abc}\n",
    "    k_P_Q: \\t {k_P_Q_art} \\t\\t {k_P_Q_ind_abc}\n",
    "    k_QP_P: \\t {k_QP_P_art} \\t\\t {k_QP_P_ind_abc}\n",
    "    lambda_P: \\t {lambda_P_art} \\t\\t {lambda_P_ind_abc}\n",
    "    \"\"\")\n",
    "\n",
    "def show_article_comparison(art, abc, group_name):\n",
    "    (K_abc, KDE_abc,\n",
    "    delta_QP_abc, gamma_P_abc, \n",
    "    gamma_Q_abc, k_P_Q_abc, \n",
    "    k_QP_P_abc, lambda_P_abc) = abc\n",
    "\n",
    "    (K_art, KDE_art,\n",
    "    delta_QP_art, gamma_P_art, \n",
    "    gamma_Q_art, k_P_Q_art, \n",
    "    k_QP_P_art, lambda_P_art) = art\n",
    "\n",
    "    print(\n",
    "    f\"\"\"\n",
    "    \\tGROUP: {colored(group_name,attrs=['bold'])}\n",
    "\n",
    "    \\t\\tARTICLE: \\t ABC-SMC\n",
    "    K: \\t\\t {K_art} \\t\\t {K_abc}\n",
    "    KDE: \\t {KDE_art} \\t\\t {KDE_abc}\n",
    "    delta_QP: \\t {delta_QP_art} \\t\\t {delta_QP_abc}\n",
    "    gamma_P: \\t {gamma_P_art} \\t\\t {gamma_P_abc}\n",
    "    gamma_Q: \\t {gamma_Q_art} \\t\\t {gamma_Q_abc}\n",
    "    k_P_Q: \\t {k_P_Q_art} \\t\\t {k_P_Q_abc}\n",
    "    k_QP_P: \\t {k_QP_P_art} \\t\\t {k_QP_P_abc}\n",
    "    lambda_P: \\t {lambda_P_art} \\t\\t {lambda_P_abc}\n",
    "    \"\"\")"
   ]
  },
  {
   "cell_type": "code",
   "execution_count": 52,
   "metadata": {
    "colab": {
     "base_uri": "https://localhost:8080/"
    },
    "id": "JY3osDznWQ8c",
    "outputId": "1b83497c-baa6-4782-f43f-75404ae050da"
   },
   "outputs": [
    {
     "data": {
      "text/plain": [
       "1.8400127224793223"
      ]
     },
     "execution_count": 52,
     "metadata": {
      "tags": []
     },
     "output_type": "execute_result"
    }
   ],
   "source": [
    "distance(PCV_art_ind_model, {'P_sum':PCV_ind_patient_data, 't': PCV_ind_patient_time})"
   ]
  },
  {
   "cell_type": "code",
   "execution_count": 18,
   "metadata": {
    "colab": {
     "base_uri": "https://localhost:8080/"
    },
    "id": "oxNVzX2uWQ8d",
    "outputId": "a4f83ef5-4b35-4814-a17f-e9a085d39767"
   },
   "outputs": [
    {
     "data": {
      "text/plain": [
       "['K', 'KDE', 'delta_QP', 'gamma_P', 'gamma_Q', 'k_P_Q', 'k_QP_P', 'lambda_P']"
      ]
     },
     "execution_count": 18,
     "metadata": {
      "tags": []
     },
     "output_type": "execute_result"
    }
   ],
   "source": [
    "parameter_prior = Distribution(\n",
    "    KDE=RV(\"uniform\", 0.0, 0.5),\n",
    "    lambda_P=RV(\"uniform\", 0.0, 1),\n",
    "    gamma_P=RV(\"uniform\", 0.0, 1),\n",
    "    gamma_Q=RV(\"uniform\", 0.0, 1),\n",
    "    k_QP_P=RV(\"uniform\", 0.0, 0.5),\n",
    "    delta_QP=RV(\"uniform\", 0.0, 0.5),\n",
    "    k_P_Q=RV(\"uniform\", 0.0, 1),\n",
    "    K=RV(\"uniform\", 10, 200)\n",
    ")\n",
    "\n",
    "# parameter_prior = Distribution(\n",
    "#     KDE=RV(\"uniform\", 0, 0.5),\n",
    "#     lambda_P=RV(\"uniform\", 0, 0.5),\n",
    "#     gamma_P=RV(\"uniform\", 0, 0.5),\n",
    "#     gamma_Q=RV(\"uniform\", 0, 0.5),\n",
    "#     k_QP_P=RV(\"uniform\", 0, 0.2),\n",
    "#     delta_QP=RV(\"uniform\", 0, 0.2),\n",
    "#     k_P_Q=RV(\"uniform\", 0, 0.5),\n",
    "#     K=RV(\"uniform\", 10, 200)\n",
    "# )\n",
    "\n",
    "# window=0.5\n",
    "# parameter_prior = Distribution(\n",
    "#     KDE=RV(\"uniform\", KDE_art-window, KDE_art+window),\n",
    "#     lambda_P=RV(\"uniform\", lambda_P_art-window, lambda_P_art+window),\n",
    "#     gamma_P=RV(\"uniform\", gamma_P_art-window, gamma_P_art+window),\n",
    "#     gamma_Q=RV(\"uniform\", gamma_Q_art-window, gamma_Q_art+window),\n",
    "#     k_QP_P=RV(\"uniform\", k_QP_P_art-window, k_QP_P_art+window),\n",
    "#     delta_QP=RV(\"uniform\", delta_QP_art-window, delta_QP_art+window),\n",
    "#     k_P_Q=RV(\"uniform\", k_P_Q_art-window, k_P_Q_art+window),\n",
    "#     K=RV(\"uniform\", K_art-window, K_art+window)\n",
    "# )\n",
    "\n",
    "parameter_prior.get_parameter_names()"
   ]
  },
  {
   "cell_type": "code",
   "execution_count": 19,
   "metadata": {
    "colab": {
     "base_uri": "https://localhost:8080/"
    },
    "id": "dSoatY3cWQ8d",
    "outputId": "acb0df5a-774f-4b20-b90e-62d043befd6a"
   },
   "outputs": [
    {
     "name": "stderr",
     "output_type": "stream",
     "text": [
      "INFO:Sampler:Parallelizing the sampling on 2 cores.\n"
     ]
    }
   ],
   "source": [
    "ind_model = lambda pars: individual_model(t=PCV_ind_patient_time, y0=PCV_art_ind_y0, pars=pars)\n",
    "PCV_ind_abc = ABCSMC(\n",
    "    models=ind_model,\n",
    "    parameter_priors=parameter_prior,\n",
    "    distance_function=distance,\n",
    "    population_size=10,\n",
    "    transitions=LocalTransition(k_fraction=.3),\n",
    "    # transitions=LocalTransition(k_fraction=.2),\n",
    "    eps=MedianEpsilon(20, median_multiplier=0.7)\n",
    "#     sampler=SingleCoreSampler\n",
    ")"
   ]
  },
  {
   "cell_type": "code",
   "execution_count": 20,
   "metadata": {
    "colab": {
     "base_uri": "https://localhost:8080/"
    },
    "id": "bCrizkWVWQ8d",
    "outputId": "d5afe03e-59b2-4c45-e621-bef10b436eae"
   },
   "outputs": [
    {
     "name": "stderr",
     "output_type": "stream",
     "text": [
      "INFO:History:Start <ABCSMC(id=1, start_time=2021-01-24 12:15:31.275582, end_time=None)>\n"
     ]
    }
   ],
   "source": [
    "PCV_ind_abc.new(db_path, {'P_sum': PCV_ind_patient_data, 't': PCV_ind_patient_time});"
   ]
  },
  {
   "cell_type": "code",
   "execution_count": 21,
   "metadata": {
    "colab": {
     "base_uri": "https://localhost:8080/"
    },
    "id": "Avpc9xJ3WQ8e",
    "outputId": "0a8a0797-ba25-450e-e41b-29fc4348c89b"
   },
   "outputs": [
    {
     "name": "stderr",
     "output_type": "stream",
     "text": [
      "INFO:ABC:t: 0, eps: 20.\n",
      "INFO:ABC:Acceptance rate: 10 / 13 = 7.6923e-01, ESS=1.0000e+01.\n",
      "INFO:ABC:t: 1, eps: 6.37786006285724.\n",
      "INFO:ABC:Acceptance rate: 10 / 51 = 1.9608e-01, ESS=6.5372e+00.\n",
      "INFO:ABC:t: 2, eps: 4.0023518986187865.\n",
      "INFO:ABC:Acceptance rate: 10 / 56 = 1.7857e-01, ESS=1.0854e+00.\n",
      "INFO:pyabc.util:Stopping: minimum epsilon.\n",
      "INFO:History:Done <ABCSMC(id=1, start_time=2021-01-24 12:15:31.275582, end_time=2021-01-24 12:15:35.904149)>\n"
     ]
    }
   ],
   "source": [
    "h = PCV_ind_abc.run(minimum_epsilon=5, max_nr_populations=5)"
   ]
  },
  {
   "cell_type": "code",
   "execution_count": 22,
   "metadata": {
    "id": "MvsPGOicWQ8e"
   },
   "outputs": [],
   "source": [
    "(K_ind_abc, KDE_ind_abc,\n",
    "delta_QP_ind_abc, gamma_P_ind_abc, \n",
    "gamma_Q_ind_abc, k_P_Q_ind_abc, \n",
    "k_QP_P_ind_abc, lambda_P_ind_abc) = get_posterior(h)"
   ]
  },
  {
   "cell_type": "code",
   "execution_count": 23,
   "metadata": {
    "id": "1YcsMtSgWQ8e"
   },
   "outputs": [],
   "source": [
    "PCV_abc_ind_model = individual_model(pars={\n",
    "    \"KDE\": KDE_ind_abc,\n",
    "    \"lambda_P\": lambda_P_ind_abc,\n",
    "    \"gamma_P\": gamma_P_ind_abc, \n",
    "    \"gamma_Q\": gamma_Q_ind_abc,\n",
    "    \"k_QP_P\": k_QP_P_ind_abc,\n",
    "    \"delta_QP\": delta_QP_ind_abc,\n",
    "    \"k_P_Q\": k_P_Q_ind_abc,\n",
    "    \"K\": K_ind_abc},\n",
    "    t=PCV_ind_patient_time,\n",
    "    y0=PCV_art_ind_y0\n",
    ")"
   ]
  },
  {
   "cell_type": "code",
   "execution_count": 24,
   "metadata": {
    "colab": {
     "base_uri": "https://localhost:8080/",
     "height": 278
    },
    "id": "eD4h_e1FWQ8f",
    "outputId": "4f2187c1-b87a-40cd-cd33-a4a75ec472d6"
   },
   "outputs": [
    {
     "data": {
      "image/png": "[encoded data removed]",
      "text/plain": [
       "<Figure size 432x288 with 1 Axes>"
      ]
     },
     "metadata": {
      "needs_background": "light",
      "tags": []
     },
     "output_type": "display_data"
    }
   ],
   "source": [
    "plt.plot(PCV_art_ind_model['t'], PCV_art_ind_model['P_sum'], color=\"C0\", label='Article_Pars')\n",
    "plt.plot(PCV_abc_ind_model['t'], PCV_abc_ind_model['P_sum'], color=\"C1\", label='ABC_Pars')\n",
    "plt.scatter(PCV_ind_patient_time, PCV_ind_patient_data, color=\"C1\", label='Data')\n",
    "plt.xlabel(\"TIME [DAYS]\")\n",
    "plt.ylabel(\"MTD [mm]\")\n",
    "plt.legend()\n",
    "plt.show()"
   ]
  },
  {
   "cell_type": "code",
   "execution_count": 25,
   "metadata": {
    "colab": {
     "base_uri": "https://localhost:8080/",
     "height": 277
    },
    "id": "49LHkRaWWQ8f",
    "outputId": "f59658bb-a897-4087-de98-f5e96a8aa0d5"
   },
   "outputs": [
    {
     "data": {
      "image/png": "[encoded data removed]",
      "text/plain": [
       "<Figure size 432x288 with 1 Axes>"
      ]
     },
     "metadata": {
      "needs_background": "light",
      "tags": []
     },
     "output_type": "display_data"
    }
   ],
   "source": [
    "plt.plot(PCV_art_ind_model['t'], PCV_art_ind_model['dC'], color=\"C0\", label='Article_Pars')\n",
    "plt.plot(PCV_abc_ind_model['t'], PCV_abc_ind_model['dC'], color=\"C1\", label='ABC_Pars')\n",
    "plt.xlabel(\"TIME [DAYS]\")\n",
    "plt.ylabel(\"DRUG CONCENTRATION\")\n",
    "plt.legend()\n",
    "plt.show()"
   ]
  },
  {
   "cell_type": "code",
   "execution_count": 26,
   "metadata": {
    "colab": {
     "base_uri": "https://localhost:8080/"
    },
    "id": "adsE14-5WQ8f",
    "outputId": "1632e7b8-3268-4e4b-ff4a-5e6a86a87ee8"
   },
   "outputs": [
    {
     "name": "stdout",
     "output_type": "stream",
     "text": [
      "\n",
      "    \t\tARTICLE: \t ABC-SMC\n",
      "    K: \t\t 100 \t\t 131.86860626514945\n",
      "    KDE: \t 0.1 \t\t 0.33443271252967444\n",
      "    delta_QP: \t 0.01 \t\t 0.06772327898861286\n",
      "    gamma_P: \t 0.3 \t\t 0.723940436702055\n",
      "    gamma_Q: \t 0.3 \t\t 0.2570352552377586\n",
      "    k_P_Q: \t 0.1 \t\t 0.7385914097285068\n",
      "    k_QP_P: \t 0.05 \t\t 0.31323273986681477\n",
      "    lambda_P: \t 0.121 \t\t 0.5536528912881948\n",
      "    \n"
     ]
    }
   ],
   "source": [
    "show_art_abc_posterior(h)"
   ]
  },
  {
   "cell_type": "markdown",
   "metadata": {
    "id": "MlrI-hwqUuxY"
   },
   "source": [
    "### Asymilacja modelu indywidualnego do wszystkich pacjentów PCV"
   ]
  },
  {
   "cell_type": "code",
   "execution_count": 117,
   "metadata": {
    "id": "RtSxsTxSYC-m"
   },
   "outputs": [],
   "source": [
    "def get_data_for_groups(groups):\n",
    "    measurements = []\n",
    "    times = []\n",
    "    for group_n in groups:\n",
    "        group_data = data[group_n]\n",
    "        for patient_n in range(int(group_data.shape[1]/2)):\n",
    "            ind_patient_data = data[group_n][patient_n*2+1][data[group_n][patient_n*2+1].notnull()].values\n",
    "            ind_patient_time = data[group_n][patient_n*2][data[group_n][patient_n*2].notnull()].values\n",
    "            measurements.append(ind_patient_data)   \n",
    "            times.append(ind_patient_time)\n",
    "    return measurements, times\n",
    "\n",
    "def train_ind_model(measurement, time):\n",
    "    P_SUM_0 = measurement[0]\n",
    "    C_0 = 0\n",
    "    QP_0 = 0\n",
    "    P_0 = P_SUM_0 / 5\n",
    "    Q_0 = P_SUM_0 - P_0 - QP_0\n",
    "\n",
    "    y0 = np.array([P_SUM_0, C_0, P_0, Q_0, QP_0])\n",
    "\n",
    "    parameter_prior = Distribution(\n",
    "        KDE=RV(\"uniform\", 0.0, 1),\n",
    "        lambda_P=RV(\"uniform\", 0.0, 1),\n",
    "        gamma_P=RV(\"uniform\", 0.0, 1),\n",
    "        gamma_Q=RV(\"uniform\", 0.0, 1),\n",
    "        k_QP_P=RV(\"uniform\", 0.0, 0.5),\n",
    "        delta_QP=RV(\"uniform\", 0.0, 1),\n",
    "        k_P_Q=RV(\"uniform\", 0.0, 1),\n",
    "        K=RV(\"uniform\", 10, 200)\n",
    "    )\n",
    "\n",
    "    ind_model = lambda pars: individual_model(t=time, y0=y0, pars=pars)\n",
    "    ind_abc = ABCSMC(\n",
    "        models=ind_model,\n",
    "        parameter_priors=parameter_prior,\n",
    "        distance_function=distance,\n",
    "        population_size=10,\n",
    "        transitions=LocalTransition(k_fraction=.3),\n",
    "        eps=MedianEpsilon(20, median_multiplier=0.7)\n",
    "    )\n",
    "\n",
    "    ind_abc.new(db_path, {'P_sum': measurement, 't': time})\n",
    "\n",
    "    h = ind_abc.run(minimum_epsilon=5, max_nr_populations=3)\n",
    "    return get_posterior(h)\n",
    "\n"
   ]
  },
  {
   "cell_type": "code",
   "execution_count": 124,
   "metadata": {
    "id": "p_2sPkj6WQ8g"
   },
   "outputs": [],
   "source": [
    "TIMEOUT = 30\n",
    "\n",
    "def worker(m, t, posteriors):\n",
    "    post = train_ind_model(m, t)\n",
    "    posteriors.append(post)\n",
    "\n",
    "def get_mean_parameters_for_groups(groups):\n",
    "    measurements, times = get_data_for_groups(groups)\n",
    "\n",
    "    manager = multiprocessing.Manager()\n",
    "    posteriors = manager.list()\n",
    "    patient_spec = []\n",
    "\n",
    "    for m, t in zip(measurements, times):\n",
    "        p = multiprocessing.Process(target=worker, args=(m, t, posteriors))\n",
    "        p.start()\n",
    "        p.join(TIMEOUT)\n",
    "\n",
    "        if p.is_alive():\n",
    "            p.terminate()\n",
    "            p.join()\n",
    "            print('\\n\\nKILLED\\n\\n')\n",
    "        else:\n",
    "            p.join()\n",
    "            patient_spec.append((m, t, posteriors[-1]))\n",
    "    return np.mean(posteriors, axis=0), np.std(posteriors, axis=0), patient_spec\n",
    "\n",
    "\n"
   ]
  },
  {
   "cell_type": "code",
   "execution_count": 125,
   "metadata": {
    "colab": {
     "base_uri": "https://localhost:8080/"
    },
    "id": "1R8gyU6JZumg",
    "outputId": "cf8cb558-5fc3-494c-fba3-6b4db0d7a1b3"
   },
   "outputs": [
    {
     "name": "stderr",
     "output_type": "stream",
     "text": [
      "INFO:Sampler:Parallelizing the sampling on 2 cores.\n",
      "INFO:History:Start <ABCSMC(id=123, start_time=2021-01-24 13:58:54.656192, end_time=None)>\n",
      "INFO:ABC:t: 0, eps: 20.\n",
      "INFO:ABC:Acceptance rate: 10 / 17 = 5.8824e-01, ESS=1.0000e+01.\n",
      "INFO:ABC:t: 1, eps: 7.118598442758551.\n",
      "INFO:ABC:Acceptance rate: 10 / 84 = 1.1905e-01, ESS=6.2769e+00.\n",
      "INFO:ABC:t: 2, eps: 4.029261504934401.\n"
     ]
    },
    {
     "name": "stdout",
     "output_type": "stream",
     "text": [
      "\n",
      "\n",
      "KILLED\n",
      "\n",
      "\n"
     ]
    },
    {
     "name": "stderr",
     "output_type": "stream",
     "text": [
      "INFO:Sampler:Parallelizing the sampling on 2 cores.\n",
      "INFO:History:Start <ABCSMC(id=124, start_time=2021-01-24 13:59:24.794722, end_time=None)>\n",
      "INFO:ABC:t: 0, eps: 20.\n",
      "INFO:ABC:Acceptance rate: 10 / 16 = 6.2500e-01, ESS=1.0000e+01.\n",
      "INFO:ABC:t: 1, eps: 8.442598802460155.\n",
      "INFO:ABC:Acceptance rate: 10 / 33 = 3.0303e-01, ESS=2.3853e+00.\n",
      "INFO:ABC:t: 2, eps: 4.865224265306785.\n",
      "INFO:ABC:Acceptance rate: 10 / 50 = 2.0000e-01, ESS=1.0555e+00.\n",
      "INFO:pyabc.util:Stopping: maximum number of generations.\n",
      "INFO:History:Done <ABCSMC(id=124, start_time=2021-01-24 13:59:24.794722, end_time=2021-01-24 13:59:37.547472)>\n",
      "INFO:Sampler:Parallelizing the sampling on 2 cores.\n",
      "INFO:History:Start <ABCSMC(id=125, start_time=2021-01-24 13:59:37.990838, end_time=None)>\n",
      "INFO:ABC:t: 0, eps: 20.\n",
      "INFO:ABC:Acceptance rate: 10 / 15 = 6.6667e-01, ESS=1.0000e+01.\n",
      "INFO:ABC:t: 1, eps: 8.163803858786105.\n",
      "INFO:ABC:Acceptance rate: 10 / 39 = 2.5641e-01, ESS=5.8679e+00.\n",
      "INFO:ABC:t: 2, eps: 4.6116432061214985.\n",
      "INFO:ABC:Acceptance rate: 10 / 142 = 7.0423e-02, ESS=2.0863e+00.\n",
      "INFO:pyabc.util:Stopping: maximum number of generations.\n",
      "INFO:History:Done <ABCSMC(id=125, start_time=2021-01-24 13:59:37.990838, end_time=2021-01-24 13:59:54.906486)>\n",
      "INFO:Sampler:Parallelizing the sampling on 2 cores.\n",
      "INFO:History:Start <ABCSMC(id=126, start_time=2021-01-24 13:59:55.398845, end_time=None)>\n",
      "INFO:ABC:t: 0, eps: 20.\n",
      "INFO:ABC:Acceptance rate: 10 / 14 = 7.1429e-01, ESS=1.0000e+01.\n",
      "INFO:ABC:t: 1, eps: 5.809754379461585.\n",
      "INFO:ABC:Acceptance rate: 10 / 28 = 3.5714e-01, ESS=1.5853e+00.\n",
      "INFO:ABC:t: 2, eps: 1.1875210456581806.\n"
     ]
    },
    {
     "name": "stdout",
     "output_type": "stream",
     "text": [
      "\n",
      "\n",
      "KILLED\n",
      "\n",
      "\n"
     ]
    },
    {
     "name": "stderr",
     "output_type": "stream",
     "text": [
      "INFO:Sampler:Parallelizing the sampling on 2 cores.\n",
      "INFO:History:Start <ABCSMC(id=127, start_time=2021-01-24 14:00:25.512217, end_time=None)>\n",
      "INFO:ABC:t: 0, eps: 20.\n",
      "INFO:ABC:Acceptance rate: 10 / 13 = 7.6923e-01, ESS=1.0000e+01.\n",
      "INFO:ABC:t: 1, eps: 6.515903111034013.\n",
      "INFO:ABC:Acceptance rate: 10 / 22 = 4.5455e-01, ESS=4.1797e+00.\n",
      "INFO:ABC:t: 2, eps: 3.2996912386772292.\n",
      "INFO:ABC:Acceptance rate: 10 / 33 = 3.0303e-01, ESS=3.8253e+00.\n",
      "INFO:pyabc.util:Stopping: maximum number of generations.\n",
      "INFO:History:Done <ABCSMC(id=127, start_time=2021-01-24 14:00:25.512217, end_time=2021-01-24 14:00:32.964014)>\n"
     ]
    }
   ],
   "source": [
    "PCV_groups = [0 1, 2]\n",
    "PCV_mean_parameters, PCV_std_parameters, PCV_patients_spec = get_mean_parameters_for_groups(PCV_groups)"
   ]
  },
  {
   "cell_type": "code",
   "execution_count": 113,
   "metadata": {
    "colab": {
     "base_uri": "https://localhost:8080/"
    },
    "id": "beBKdqVye7Na",
    "outputId": "a9fd6846-0940-430f-fa84-8fa0a094319b"
   },
   "outputs": [
    {
     "name": "stdout",
     "output_type": "stream",
     "text": [
      "\n",
      "    \tGROUP: \u001b[1mPCV\u001b[0m\n",
      "\n",
      "    \t\tARTICLE: \t ABC-SMC\n",
      "    K: \t\t 100 \t\t 96.66140031041823\n",
      "    KDE: \t 0.1 \t\t 0.25187096158873706\n",
      "    delta_QP: \t 0.01 \t\t 0.26062729075067265\n",
      "    gamma_P: \t 0.3 \t\t 0.5451397521949711\n",
      "    gamma_Q: \t 0.3 \t\t 0.40974908553602873\n",
      "    k_P_Q: \t 0.1 \t\t 0.523938226435063\n",
      "    k_QP_P: \t 0.05 \t\t 0.2959866044625057\n",
      "    lambda_P: \t 0.121 \t\t 0.5541228375198988\n",
      "    \n"
     ]
    }
   ],
   "source": [
    "PCV_art_pars = [K_art, KDE_art, delta_QP_art, gamma_P_art, gamma_Q_art, k_P_Q_art, k_QP_P_art, lambda_P_art]\n",
    "show_article_comparison(PCV_art_pars, PCV_mean_parameters,'PCV')"
   ]
  },
  {
   "cell_type": "code",
   "execution_count": 127,
   "metadata": {
    "colab": {
     "base_uri": "https://localhost:8080/"
    },
    "id": "S9W_6WJjmaIr",
    "outputId": "f30138e2-812a-4ecc-f195-11be07a71f80"
   },
   "outputs": [
    {
     "data": {
      "text/plain": [
       "(array([31.55059456, 32.88196811, 36.87608877, 40.13055745, 42.20158297,\n",
       "        48.85845073, 49.45017231, 48.26672915, 43.53295653, 44.1246781 ,\n",
       "        46.04777323]),\n",
       " array([-73.85371483, -69.94355467, -63.20938995, -49.7410605 ,\n",
       "        -37.35888666, -15.20131242,  -6.07760538,   3.91502614,\n",
       "         10.21472862,  16.94889334,  21.9452091 ]),\n",
       " array([109.4187964 ,   0.68489942,   0.85732058,   0.97472515,\n",
       "          0.44904386,   0.7058396 ,   0.34094169,   0.68675116]))"
      ]
     },
     "execution_count": 127,
     "metadata": {
      "tags": []
     },
     "output_type": "execute_result"
    }
   ],
   "source": []
  },
  {
   "cell_type": "code",
   "execution_count": null,
   "metadata": {
    "id": "I7jvApd5socu"
   },
   "outputs": [],
   "source": []
  }
 ],
 "metadata": {
  "colab": {
   "collapsed_sections": [],
   "name": "TumorGrowth.ipynb",
   "provenance": [],
   "toc_visible": true
  },
  "kernelspec": {
   "display_name": "Python 3",
   "language": "python",
   "name": "python3"
  },
  "language_info": {
   "codemirror_mode": {
    "name": "ipython",
    "version": 3
   },
   "file_extension": ".py",
   "mimetype": "text/x-python",
   "name": "python",
   "nbconvert_exporter": "python",
   "pygments_lexer": "ipython3",
   "version": "3.7.3"
  }
 },
 "nbformat": 4,
 "nbformat_minor": 1
}
